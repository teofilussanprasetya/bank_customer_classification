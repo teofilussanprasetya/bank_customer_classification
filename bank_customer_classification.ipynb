{
  "cells": [
    {
      "cell_type": "markdown",
      "metadata": {},
      "source": [
        "#### Teofilus San Prasetya"
      ]
    },
    {
      "cell_type": "markdown",
      "metadata": {},
      "source": [
        "# Bank Customer Classification: Predicting Term Deposit Subscriptions Using Machine Learning - Deployed with FastAPI"
      ]
    },
    {
      "cell_type": "markdown",
      "metadata": {},
      "source": [
        "**Bank Marketing Dataset**\n",
        "\n",
        "**This dataset contains 8237 rows and 16 columns, aimed at predicting whether a client will subscribe to a term deposit. It includes demographic and contact information from a bank's marketing campaign.**"
      ]
    },
    {
      "cell_type": "markdown",
      "metadata": {},
      "source": [
        "**Model machine learning by performing all necessary data preprocessing steps before classification, train the machine learning models by comparing two algorithms, and select the best algorithm to be saved in pickle format.**"
      ]
    },
    {
      "cell_type": "code",
      "execution_count": 1,
      "metadata": {
        "id": "CgwFdQ1QDOOS"
      },
      "outputs": [],
      "source": [
        "import pandas as pd\n",
        "import numpy as np\n",
        "import matplotlib.pyplot as plt\n",
        "import seaborn as sns\n",
        "from sklearn.model_selection import train_test_split\n",
        "from sklearn.ensemble import RandomForestClassifier\n",
        "from sklearn.metrics import classification_report, confusion_matrix\n",
        "import pickle\n",
        "\n",
        "import warnings\n",
        "warnings.filterwarnings('ignore')\n"
      ]
    },
    {
      "cell_type": "markdown",
      "metadata": {},
      "source": [
        "### Preprocessing Data"
      ]
    },
    {
      "cell_type": "code",
      "execution_count": 2,
      "metadata": {
        "colab": {
          "base_uri": "https://localhost:8080/",
          "height": 261
        },
        "id": "KR5aV3u3NGC-",
        "outputId": "1538ad84-d3ad-4b42-e6ad-94af1e0221a1"
      },
      "outputs": [
        {
          "data": {
            "text/html": [
              "<div>\n",
              "<style scoped>\n",
              "    .dataframe tbody tr th:only-of-type {\n",
              "        vertical-align: middle;\n",
              "    }\n",
              "\n",
              "    .dataframe tbody tr th {\n",
              "        vertical-align: top;\n",
              "    }\n",
              "\n",
              "    .dataframe thead th {\n",
              "        text-align: right;\n",
              "    }\n",
              "</style>\n",
              "<table border=\"1\" class=\"dataframe\">\n",
              "  <thead>\n",
              "    <tr style=\"text-align: right;\">\n",
              "      <th></th>\n",
              "      <th>Unnamed: 0</th>\n",
              "      <th>age</th>\n",
              "      <th>job</th>\n",
              "      <th>marital</th>\n",
              "      <th>education</th>\n",
              "      <th>default</th>\n",
              "      <th>housing</th>\n",
              "      <th>loan</th>\n",
              "      <th>contact</th>\n",
              "      <th>month</th>\n",
              "      <th>day_of_week</th>\n",
              "      <th>duration</th>\n",
              "      <th>campaign</th>\n",
              "      <th>pdays</th>\n",
              "      <th>previous</th>\n",
              "      <th>poutcome</th>\n",
              "      <th>y</th>\n",
              "    </tr>\n",
              "  </thead>\n",
              "  <tbody>\n",
              "    <tr>\n",
              "      <th>0</th>\n",
              "      <td>0</td>\n",
              "      <td>29</td>\n",
              "      <td>technician</td>\n",
              "      <td>single</td>\n",
              "      <td>basic.9y</td>\n",
              "      <td>no</td>\n",
              "      <td>yes</td>\n",
              "      <td>no</td>\n",
              "      <td>cellular</td>\n",
              "      <td>nov</td>\n",
              "      <td>wed</td>\n",
              "      <td>648.0</td>\n",
              "      <td>1</td>\n",
              "      <td>999</td>\n",
              "      <td>0</td>\n",
              "      <td>nonexistent</td>\n",
              "      <td>no</td>\n",
              "    </tr>\n",
              "    <tr>\n",
              "      <th>1</th>\n",
              "      <td>1</td>\n",
              "      <td>31</td>\n",
              "      <td>admin.</td>\n",
              "      <td>single</td>\n",
              "      <td>university.degree</td>\n",
              "      <td>no</td>\n",
              "      <td>no</td>\n",
              "      <td>no</td>\n",
              "      <td>cellular</td>\n",
              "      <td>aug</td>\n",
              "      <td>wed</td>\n",
              "      <td>295.0</td>\n",
              "      <td>1</td>\n",
              "      <td>999</td>\n",
              "      <td>0</td>\n",
              "      <td>nonexistent</td>\n",
              "      <td>no</td>\n",
              "    </tr>\n",
              "    <tr>\n",
              "      <th>2</th>\n",
              "      <td>2</td>\n",
              "      <td>27</td>\n",
              "      <td>blue-collar</td>\n",
              "      <td>single</td>\n",
              "      <td>basic.9y</td>\n",
              "      <td>no</td>\n",
              "      <td>yes</td>\n",
              "      <td>no</td>\n",
              "      <td>telephone</td>\n",
              "      <td>jul</td>\n",
              "      <td>mon</td>\n",
              "      <td>236.0</td>\n",
              "      <td>2</td>\n",
              "      <td>999</td>\n",
              "      <td>0</td>\n",
              "      <td>nonexistent</td>\n",
              "      <td>no</td>\n",
              "    </tr>\n",
              "    <tr>\n",
              "      <th>3</th>\n",
              "      <td>3</td>\n",
              "      <td>30</td>\n",
              "      <td>services</td>\n",
              "      <td>married</td>\n",
              "      <td>unknown</td>\n",
              "      <td>no</td>\n",
              "      <td>no</td>\n",
              "      <td>no</td>\n",
              "      <td>telephone</td>\n",
              "      <td>may</td>\n",
              "      <td>wed</td>\n",
              "      <td>143.0</td>\n",
              "      <td>3</td>\n",
              "      <td>999</td>\n",
              "      <td>0</td>\n",
              "      <td>nonexistent</td>\n",
              "      <td>no</td>\n",
              "    </tr>\n",
              "    <tr>\n",
              "      <th>4</th>\n",
              "      <td>4</td>\n",
              "      <td>32</td>\n",
              "      <td>technician</td>\n",
              "      <td>married</td>\n",
              "      <td>university.degree</td>\n",
              "      <td>no</td>\n",
              "      <td>no</td>\n",
              "      <td>no</td>\n",
              "      <td>cellular</td>\n",
              "      <td>aug</td>\n",
              "      <td>thu</td>\n",
              "      <td>155.0</td>\n",
              "      <td>1</td>\n",
              "      <td>999</td>\n",
              "      <td>0</td>\n",
              "      <td>nonexistent</td>\n",
              "      <td>no</td>\n",
              "    </tr>\n",
              "  </tbody>\n",
              "</table>\n",
              "</div>"
            ],
            "text/plain": [
              "   Unnamed: 0  age          job  marital          education default housing  \\\n",
              "0           0   29   technician   single           basic.9y      no     yes   \n",
              "1           1   31       admin.   single  university.degree      no      no   \n",
              "2           2   27  blue-collar   single           basic.9y      no     yes   \n",
              "3           3   30     services  married            unknown      no      no   \n",
              "4           4   32   technician  married  university.degree      no      no   \n",
              "\n",
              "  loan    contact month day_of_week  duration  campaign  pdays  previous  \\\n",
              "0   no   cellular   nov         wed     648.0         1    999         0   \n",
              "1   no   cellular   aug         wed     295.0         1    999         0   \n",
              "2   no  telephone   jul         mon     236.0         2    999         0   \n",
              "3   no  telephone   may         wed     143.0         3    999         0   \n",
              "4   no   cellular   aug         thu     155.0         1    999         0   \n",
              "\n",
              "      poutcome   y  \n",
              "0  nonexistent  no  \n",
              "1  nonexistent  no  \n",
              "2  nonexistent  no  \n",
              "3  nonexistent  no  \n",
              "4  nonexistent  no  "
            ]
          },
          "execution_count": 2,
          "metadata": {},
          "output_type": "execute_result"
        }
      ],
      "source": [
        "bank_data_ = pd.read_csv('bank_customer.csv')\n",
        "bank_data_.head()"
      ]
    },
    {
      "cell_type": "code",
      "execution_count": 3,
      "metadata": {
        "colab": {
          "base_uri": "https://localhost:8080/",
          "height": 478
        },
        "id": "WKJ3kLIvYRvg",
        "outputId": "e4043ac4-ce64-4173-bb69-7bd18f0d06ee"
      },
      "outputs": [
        {
          "data": {
            "text/html": [
              "<div>\n",
              "<style scoped>\n",
              "    .dataframe tbody tr th:only-of-type {\n",
              "        vertical-align: middle;\n",
              "    }\n",
              "\n",
              "    .dataframe tbody tr th {\n",
              "        vertical-align: top;\n",
              "    }\n",
              "\n",
              "    .dataframe thead th {\n",
              "        text-align: right;\n",
              "    }\n",
              "</style>\n",
              "<table border=\"1\" class=\"dataframe\">\n",
              "  <thead>\n",
              "    <tr style=\"text-align: right;\">\n",
              "      <th></th>\n",
              "      <th>age</th>\n",
              "      <th>job</th>\n",
              "      <th>marital</th>\n",
              "      <th>education</th>\n",
              "      <th>default</th>\n",
              "      <th>housing</th>\n",
              "      <th>loan</th>\n",
              "      <th>contact</th>\n",
              "      <th>month</th>\n",
              "      <th>day_of_week</th>\n",
              "      <th>duration</th>\n",
              "      <th>campaign</th>\n",
              "      <th>pdays</th>\n",
              "      <th>previous</th>\n",
              "      <th>poutcome</th>\n",
              "      <th>y</th>\n",
              "    </tr>\n",
              "  </thead>\n",
              "  <tbody>\n",
              "    <tr>\n",
              "      <th>0</th>\n",
              "      <td>29</td>\n",
              "      <td>technician</td>\n",
              "      <td>single</td>\n",
              "      <td>basic.9y</td>\n",
              "      <td>no</td>\n",
              "      <td>yes</td>\n",
              "      <td>no</td>\n",
              "      <td>cellular</td>\n",
              "      <td>nov</td>\n",
              "      <td>wed</td>\n",
              "      <td>648.0</td>\n",
              "      <td>1</td>\n",
              "      <td>999</td>\n",
              "      <td>0</td>\n",
              "      <td>nonexistent</td>\n",
              "      <td>no</td>\n",
              "    </tr>\n",
              "    <tr>\n",
              "      <th>1</th>\n",
              "      <td>31</td>\n",
              "      <td>admin.</td>\n",
              "      <td>single</td>\n",
              "      <td>university.degree</td>\n",
              "      <td>no</td>\n",
              "      <td>no</td>\n",
              "      <td>no</td>\n",
              "      <td>cellular</td>\n",
              "      <td>aug</td>\n",
              "      <td>wed</td>\n",
              "      <td>295.0</td>\n",
              "      <td>1</td>\n",
              "      <td>999</td>\n",
              "      <td>0</td>\n",
              "      <td>nonexistent</td>\n",
              "      <td>no</td>\n",
              "    </tr>\n",
              "    <tr>\n",
              "      <th>2</th>\n",
              "      <td>27</td>\n",
              "      <td>blue-collar</td>\n",
              "      <td>single</td>\n",
              "      <td>basic.9y</td>\n",
              "      <td>no</td>\n",
              "      <td>yes</td>\n",
              "      <td>no</td>\n",
              "      <td>telephone</td>\n",
              "      <td>jul</td>\n",
              "      <td>mon</td>\n",
              "      <td>236.0</td>\n",
              "      <td>2</td>\n",
              "      <td>999</td>\n",
              "      <td>0</td>\n",
              "      <td>nonexistent</td>\n",
              "      <td>no</td>\n",
              "    </tr>\n",
              "    <tr>\n",
              "      <th>3</th>\n",
              "      <td>30</td>\n",
              "      <td>services</td>\n",
              "      <td>married</td>\n",
              "      <td>unknown</td>\n",
              "      <td>no</td>\n",
              "      <td>no</td>\n",
              "      <td>no</td>\n",
              "      <td>telephone</td>\n",
              "      <td>may</td>\n",
              "      <td>wed</td>\n",
              "      <td>143.0</td>\n",
              "      <td>3</td>\n",
              "      <td>999</td>\n",
              "      <td>0</td>\n",
              "      <td>nonexistent</td>\n",
              "      <td>no</td>\n",
              "    </tr>\n",
              "    <tr>\n",
              "      <th>4</th>\n",
              "      <td>32</td>\n",
              "      <td>technician</td>\n",
              "      <td>married</td>\n",
              "      <td>university.degree</td>\n",
              "      <td>no</td>\n",
              "      <td>no</td>\n",
              "      <td>no</td>\n",
              "      <td>cellular</td>\n",
              "      <td>aug</td>\n",
              "      <td>thu</td>\n",
              "      <td>155.0</td>\n",
              "      <td>1</td>\n",
              "      <td>999</td>\n",
              "      <td>0</td>\n",
              "      <td>nonexistent</td>\n",
              "      <td>no</td>\n",
              "    </tr>\n",
              "    <tr>\n",
              "      <th>...</th>\n",
              "      <td>...</td>\n",
              "      <td>...</td>\n",
              "      <td>...</td>\n",
              "      <td>...</td>\n",
              "      <td>...</td>\n",
              "      <td>...</td>\n",
              "      <td>...</td>\n",
              "      <td>...</td>\n",
              "      <td>...</td>\n",
              "      <td>...</td>\n",
              "      <td>...</td>\n",
              "      <td>...</td>\n",
              "      <td>...</td>\n",
              "      <td>...</td>\n",
              "      <td>...</td>\n",
              "      <td>...</td>\n",
              "    </tr>\n",
              "    <tr>\n",
              "      <th>8232</th>\n",
              "      <td>33</td>\n",
              "      <td>admin.</td>\n",
              "      <td>single</td>\n",
              "      <td>university.degree</td>\n",
              "      <td>no</td>\n",
              "      <td>no</td>\n",
              "      <td>no</td>\n",
              "      <td>telephone</td>\n",
              "      <td>may</td>\n",
              "      <td>tue</td>\n",
              "      <td>147.0</td>\n",
              "      <td>1</td>\n",
              "      <td>999</td>\n",
              "      <td>0</td>\n",
              "      <td>nonexistent</td>\n",
              "      <td>no</td>\n",
              "    </tr>\n",
              "    <tr>\n",
              "      <th>8233</th>\n",
              "      <td>39</td>\n",
              "      <td>blue-collar</td>\n",
              "      <td>married</td>\n",
              "      <td>basic.9y</td>\n",
              "      <td>no</td>\n",
              "      <td>no</td>\n",
              "      <td>no</td>\n",
              "      <td>telephone</td>\n",
              "      <td>may</td>\n",
              "      <td>mon</td>\n",
              "      <td>793.0</td>\n",
              "      <td>5</td>\n",
              "      <td>999</td>\n",
              "      <td>0</td>\n",
              "      <td>nonexistent</td>\n",
              "      <td>no</td>\n",
              "    </tr>\n",
              "    <tr>\n",
              "      <th>8234</th>\n",
              "      <td>36</td>\n",
              "      <td>admin.</td>\n",
              "      <td>married</td>\n",
              "      <td>university.degree</td>\n",
              "      <td>no</td>\n",
              "      <td>yes</td>\n",
              "      <td>no</td>\n",
              "      <td>telephone</td>\n",
              "      <td>may</td>\n",
              "      <td>mon</td>\n",
              "      <td>120.0</td>\n",
              "      <td>2</td>\n",
              "      <td>999</td>\n",
              "      <td>0</td>\n",
              "      <td>nonexistent</td>\n",
              "      <td>no</td>\n",
              "    </tr>\n",
              "    <tr>\n",
              "      <th>8235</th>\n",
              "      <td>50</td>\n",
              "      <td>admin.</td>\n",
              "      <td>married</td>\n",
              "      <td>university.degree</td>\n",
              "      <td>no</td>\n",
              "      <td>yes</td>\n",
              "      <td>yes</td>\n",
              "      <td>cellular</td>\n",
              "      <td>nov</td>\n",
              "      <td>fri</td>\n",
              "      <td>189.0</td>\n",
              "      <td>2</td>\n",
              "      <td>999</td>\n",
              "      <td>1</td>\n",
              "      <td>failure</td>\n",
              "      <td>no</td>\n",
              "    </tr>\n",
              "    <tr>\n",
              "      <th>8236</th>\n",
              "      <td>29</td>\n",
              "      <td>admin.</td>\n",
              "      <td>single</td>\n",
              "      <td>university.degree</td>\n",
              "      <td>no</td>\n",
              "      <td>yes</td>\n",
              "      <td>no</td>\n",
              "      <td>telephone</td>\n",
              "      <td>may</td>\n",
              "      <td>wed</td>\n",
              "      <td>713.0</td>\n",
              "      <td>1</td>\n",
              "      <td>999</td>\n",
              "      <td>0</td>\n",
              "      <td>nonexistent</td>\n",
              "      <td>no</td>\n",
              "    </tr>\n",
              "  </tbody>\n",
              "</table>\n",
              "<p>8237 rows × 16 columns</p>\n",
              "</div>"
            ],
            "text/plain": [
              "      age          job  marital          education default housing loan  \\\n",
              "0      29   technician   single           basic.9y      no     yes   no   \n",
              "1      31       admin.   single  university.degree      no      no   no   \n",
              "2      27  blue-collar   single           basic.9y      no     yes   no   \n",
              "3      30     services  married            unknown      no      no   no   \n",
              "4      32   technician  married  university.degree      no      no   no   \n",
              "...   ...          ...      ...                ...     ...     ...  ...   \n",
              "8232   33       admin.   single  university.degree      no      no   no   \n",
              "8233   39  blue-collar  married           basic.9y      no      no   no   \n",
              "8234   36       admin.  married  university.degree      no     yes   no   \n",
              "8235   50       admin.  married  university.degree      no     yes  yes   \n",
              "8236   29       admin.   single  university.degree      no     yes   no   \n",
              "\n",
              "        contact month day_of_week  duration  campaign  pdays  previous  \\\n",
              "0      cellular   nov         wed     648.0         1    999         0   \n",
              "1      cellular   aug         wed     295.0         1    999         0   \n",
              "2     telephone   jul         mon     236.0         2    999         0   \n",
              "3     telephone   may         wed     143.0         3    999         0   \n",
              "4      cellular   aug         thu     155.0         1    999         0   \n",
              "...         ...   ...         ...       ...       ...    ...       ...   \n",
              "8232  telephone   may         tue     147.0         1    999         0   \n",
              "8233  telephone   may         mon     793.0         5    999         0   \n",
              "8234  telephone   may         mon     120.0         2    999         0   \n",
              "8235   cellular   nov         fri     189.0         2    999         1   \n",
              "8236  telephone   may         wed     713.0         1    999         0   \n",
              "\n",
              "         poutcome   y  \n",
              "0     nonexistent  no  \n",
              "1     nonexistent  no  \n",
              "2     nonexistent  no  \n",
              "3     nonexistent  no  \n",
              "4     nonexistent  no  \n",
              "...           ...  ..  \n",
              "8232  nonexistent  no  \n",
              "8233  nonexistent  no  \n",
              "8234  nonexistent  no  \n",
              "8235      failure  no  \n",
              "8236  nonexistent  no  \n",
              "\n",
              "[8237 rows x 16 columns]"
            ]
          },
          "execution_count": 3,
          "metadata": {},
          "output_type": "execute_result"
        }
      ],
      "source": [
        "bank_data_.drop(['Unnamed: 0'], axis=1, inplace=True)\n",
        "bank_data_"
      ]
    },
    {
      "cell_type": "markdown",
      "metadata": {},
      "source": [
        "**Perform data exploration**"
      ]
    },
    {
      "cell_type": "code",
      "execution_count": 4,
      "metadata": {
        "colab": {
          "base_uri": "https://localhost:8080/"
        },
        "id": "w6xV1GI3XQQl",
        "outputId": "8537099e-19cb-4272-a7d3-68ae4bdca704"
      },
      "outputs": [
        {
          "data": {
            "text/plain": [
              "(8237, 16)"
            ]
          },
          "execution_count": 4,
          "metadata": {},
          "output_type": "execute_result"
        }
      ],
      "source": [
        "bank_data_.shape"
      ]
    },
    {
      "cell_type": "code",
      "execution_count": 5,
      "metadata": {
        "colab": {
          "base_uri": "https://localhost:8080/"
        },
        "id": "3O3jx8YxW35P",
        "outputId": "9e011f62-cf34-4b45-99d9-05f51fc76788"
      },
      "outputs": [
        {
          "name": "stdout",
          "output_type": "stream",
          "text": [
            "<class 'pandas.core.frame.DataFrame'>\n",
            "RangeIndex: 8237 entries, 0 to 8236\n",
            "Data columns (total 16 columns):\n",
            " #   Column       Non-Null Count  Dtype  \n",
            "---  ------       --------------  -----  \n",
            " 0   age          8237 non-null   int64  \n",
            " 1   job          8227 non-null   object \n",
            " 2   marital      8237 non-null   object \n",
            " 3   education    8237 non-null   object \n",
            " 4   default      8237 non-null   object \n",
            " 5   housing      8237 non-null   object \n",
            " 6   loan         8237 non-null   object \n",
            " 7   contact      8237 non-null   object \n",
            " 8   month        8237 non-null   object \n",
            " 9   day_of_week  8237 non-null   object \n",
            " 10  duration     8222 non-null   float64\n",
            " 11  campaign     8237 non-null   int64  \n",
            " 12  pdays        8237 non-null   int64  \n",
            " 13  previous     8237 non-null   int64  \n",
            " 14  poutcome     8237 non-null   object \n",
            " 15  y            8237 non-null   object \n",
            "dtypes: float64(1), int64(4), object(11)\n",
            "memory usage: 1.0+ MB\n"
          ]
        }
      ],
      "source": [
        "bank_data_.info()"
      ]
    },
    {
      "cell_type": "code",
      "execution_count": 6,
      "metadata": {
        "colab": {
          "base_uri": "https://localhost:8080/"
        },
        "id": "2ruaAiBMe0rk",
        "outputId": "d4ee19f2-c30f-4b5c-ac0c-b585fd42b45e"
      },
      "outputs": [
        {
          "data": {
            "text/plain": [
              "age              73\n",
              "job              12\n",
              "marital           4\n",
              "education         8\n",
              "default           3\n",
              "housing           3\n",
              "loan              3\n",
              "contact           2\n",
              "month            10\n",
              "day_of_week       5\n",
              "duration       1022\n",
              "campaign         31\n",
              "pdays            21\n",
              "previous          7\n",
              "poutcome          3\n",
              "y                 2\n",
              "dtype: int64"
            ]
          },
          "execution_count": 6,
          "metadata": {},
          "output_type": "execute_result"
        }
      ],
      "source": [
        "bank_data_.nunique()"
      ]
    },
    {
      "cell_type": "code",
      "execution_count": 7,
      "metadata": {
        "colab": {
          "base_uri": "https://localhost:8080/"
        },
        "id": "PxH3xuKBXLCr",
        "outputId": "fbb4f0ff-e04a-4862-a0bc-67a7a172ec2f"
      },
      "outputs": [
        {
          "data": {
            "text/plain": [
              "Index(['age', 'job', 'marital', 'education', 'default', 'housing', 'loan',\n",
              "       'contact', 'month', 'day_of_week', 'duration', 'campaign', 'pdays',\n",
              "       'previous', 'poutcome', 'y'],\n",
              "      dtype='object')"
            ]
          },
          "execution_count": 7,
          "metadata": {},
          "output_type": "execute_result"
        }
      ],
      "source": [
        "bank_data_.columns"
      ]
    },
    {
      "cell_type": "code",
      "execution_count": 8,
      "metadata": {
        "colab": {
          "base_uri": "https://localhost:8080/",
          "height": 226
        },
        "id": "FuXC3guKX5cu",
        "outputId": "dc7b6d35-5469-4f1c-f551-13bb0cf56cc8"
      },
      "outputs": [
        {
          "data": {
            "text/html": [
              "<div>\n",
              "<style scoped>\n",
              "    .dataframe tbody tr th:only-of-type {\n",
              "        vertical-align: middle;\n",
              "    }\n",
              "\n",
              "    .dataframe tbody tr th {\n",
              "        vertical-align: top;\n",
              "    }\n",
              "\n",
              "    .dataframe thead th {\n",
              "        text-align: right;\n",
              "    }\n",
              "</style>\n",
              "<table border=\"1\" class=\"dataframe\">\n",
              "  <thead>\n",
              "    <tr style=\"text-align: right;\">\n",
              "      <th></th>\n",
              "      <th>count</th>\n",
              "      <th>mean</th>\n",
              "      <th>std</th>\n",
              "      <th>min</th>\n",
              "      <th>25%</th>\n",
              "      <th>50%</th>\n",
              "      <th>75%</th>\n",
              "      <th>max</th>\n",
              "    </tr>\n",
              "  </thead>\n",
              "  <tbody>\n",
              "    <tr>\n",
              "      <th>age</th>\n",
              "      <td>8237.0</td>\n",
              "      <td>40.000486</td>\n",
              "      <td>10.331078</td>\n",
              "      <td>17.0</td>\n",
              "      <td>32.0</td>\n",
              "      <td>38.0</td>\n",
              "      <td>47.0</td>\n",
              "      <td>98.0</td>\n",
              "    </tr>\n",
              "    <tr>\n",
              "      <th>duration</th>\n",
              "      <td>8222.0</td>\n",
              "      <td>260.189370</td>\n",
              "      <td>254.942835</td>\n",
              "      <td>0.0</td>\n",
              "      <td>103.0</td>\n",
              "      <td>183.0</td>\n",
              "      <td>324.0</td>\n",
              "      <td>3284.0</td>\n",
              "    </tr>\n",
              "    <tr>\n",
              "      <th>campaign</th>\n",
              "      <td>8237.0</td>\n",
              "      <td>2.555299</td>\n",
              "      <td>2.663180</td>\n",
              "      <td>1.0</td>\n",
              "      <td>1.0</td>\n",
              "      <td>2.0</td>\n",
              "      <td>3.0</td>\n",
              "      <td>43.0</td>\n",
              "    </tr>\n",
              "    <tr>\n",
              "      <th>pdays</th>\n",
              "      <td>8237.0</td>\n",
              "      <td>962.352434</td>\n",
              "      <td>187.221927</td>\n",
              "      <td>0.0</td>\n",
              "      <td>999.0</td>\n",
              "      <td>999.0</td>\n",
              "      <td>999.0</td>\n",
              "      <td>999.0</td>\n",
              "    </tr>\n",
              "    <tr>\n",
              "      <th>previous</th>\n",
              "      <td>8237.0</td>\n",
              "      <td>0.172393</td>\n",
              "      <td>0.481973</td>\n",
              "      <td>0.0</td>\n",
              "      <td>0.0</td>\n",
              "      <td>0.0</td>\n",
              "      <td>0.0</td>\n",
              "      <td>6.0</td>\n",
              "    </tr>\n",
              "  </tbody>\n",
              "</table>\n",
              "</div>"
            ],
            "text/plain": [
              "           count        mean         std   min    25%    50%    75%     max\n",
              "age       8237.0   40.000486   10.331078  17.0   32.0   38.0   47.0    98.0\n",
              "duration  8222.0  260.189370  254.942835   0.0  103.0  183.0  324.0  3284.0\n",
              "campaign  8237.0    2.555299    2.663180   1.0    1.0    2.0    3.0    43.0\n",
              "pdays     8237.0  962.352434  187.221927   0.0  999.0  999.0  999.0   999.0\n",
              "previous  8237.0    0.172393    0.481973   0.0    0.0    0.0    0.0     6.0"
            ]
          },
          "execution_count": 8,
          "metadata": {},
          "output_type": "execute_result"
        }
      ],
      "source": [
        "bank_data_.describe().transpose()"
      ]
    },
    {
      "cell_type": "markdown",
      "metadata": {},
      "source": [
        "This statistic shows that the average age of customers is 40 years, with an age range from 17 to 98 years. The average contact duration is around 260 seconds, with a minimum value of 0 seconds and a maximum of 3284 seconds. The average number of contacts in the current campaign is approximately 2.56 times, with the maximum reaching 43 times. The average days since the last contact is 962 days, with most data showing a value of 999 days. The number of contacts before the current campaign averages around 0.17 times, with most customers having had no prior contact before this campaign."
      ]
    },
    {
      "cell_type": "code",
      "execution_count": 9,
      "metadata": {
        "colab": {
          "base_uri": "https://localhost:8080/",
          "height": 414
        },
        "id": "BvFCR7h8auyi",
        "outputId": "0dcc663a-b8fe-4f02-8083-c1468145d5cb"
      },
      "outputs": [
        {
          "data": {
            "text/html": [
              "<div>\n",
              "<style scoped>\n",
              "    .dataframe tbody tr th:only-of-type {\n",
              "        vertical-align: middle;\n",
              "    }\n",
              "\n",
              "    .dataframe tbody tr th {\n",
              "        vertical-align: top;\n",
              "    }\n",
              "\n",
              "    .dataframe thead th {\n",
              "        text-align: right;\n",
              "    }\n",
              "</style>\n",
              "<table border=\"1\" class=\"dataframe\">\n",
              "  <thead>\n",
              "    <tr style=\"text-align: right;\">\n",
              "      <th></th>\n",
              "      <th>count</th>\n",
              "      <th>unique</th>\n",
              "      <th>top</th>\n",
              "      <th>freq</th>\n",
              "    </tr>\n",
              "  </thead>\n",
              "  <tbody>\n",
              "    <tr>\n",
              "      <th>job</th>\n",
              "      <td>8227</td>\n",
              "      <td>12</td>\n",
              "      <td>admin.</td>\n",
              "      <td>2046</td>\n",
              "    </tr>\n",
              "    <tr>\n",
              "      <th>marital</th>\n",
              "      <td>8237</td>\n",
              "      <td>4</td>\n",
              "      <td>married</td>\n",
              "      <td>4943</td>\n",
              "    </tr>\n",
              "    <tr>\n",
              "      <th>education</th>\n",
              "      <td>8237</td>\n",
              "      <td>8</td>\n",
              "      <td>university.degree</td>\n",
              "      <td>2456</td>\n",
              "    </tr>\n",
              "    <tr>\n",
              "      <th>default</th>\n",
              "      <td>8237</td>\n",
              "      <td>3</td>\n",
              "      <td>no</td>\n",
              "      <td>6533</td>\n",
              "    </tr>\n",
              "    <tr>\n",
              "      <th>housing</th>\n",
              "      <td>8237</td>\n",
              "      <td>3</td>\n",
              "      <td>yes</td>\n",
              "      <td>4308</td>\n",
              "    </tr>\n",
              "    <tr>\n",
              "      <th>loan</th>\n",
              "      <td>8237</td>\n",
              "      <td>3</td>\n",
              "      <td>no</td>\n",
              "      <td>6890</td>\n",
              "    </tr>\n",
              "    <tr>\n",
              "      <th>contact</th>\n",
              "      <td>8237</td>\n",
              "      <td>2</td>\n",
              "      <td>cellular</td>\n",
              "      <td>5253</td>\n",
              "    </tr>\n",
              "    <tr>\n",
              "      <th>month</th>\n",
              "      <td>8237</td>\n",
              "      <td>10</td>\n",
              "      <td>may</td>\n",
              "      <td>2754</td>\n",
              "    </tr>\n",
              "    <tr>\n",
              "      <th>day_of_week</th>\n",
              "      <td>8237</td>\n",
              "      <td>5</td>\n",
              "      <td>mon</td>\n",
              "      <td>1703</td>\n",
              "    </tr>\n",
              "    <tr>\n",
              "      <th>poutcome</th>\n",
              "      <td>8237</td>\n",
              "      <td>3</td>\n",
              "      <td>nonexistent</td>\n",
              "      <td>7087</td>\n",
              "    </tr>\n",
              "    <tr>\n",
              "      <th>y</th>\n",
              "      <td>8237</td>\n",
              "      <td>2</td>\n",
              "      <td>no</td>\n",
              "      <td>7303</td>\n",
              "    </tr>\n",
              "  </tbody>\n",
              "</table>\n",
              "</div>"
            ],
            "text/plain": [
              "            count unique                top  freq\n",
              "job          8227     12             admin.  2046\n",
              "marital      8237      4            married  4943\n",
              "education    8237      8  university.degree  2456\n",
              "default      8237      3                 no  6533\n",
              "housing      8237      3                yes  4308\n",
              "loan         8237      3                 no  6890\n",
              "contact      8237      2           cellular  5253\n",
              "month        8237     10                may  2754\n",
              "day_of_week  8237      5                mon  1703\n",
              "poutcome     8237      3        nonexistent  7087\n",
              "y            8237      2                 no  7303"
            ]
          },
          "execution_count": 9,
          "metadata": {},
          "output_type": "execute_result"
        }
      ],
      "source": [
        "bank_data_.describe(include = [\"object\"]).transpose()"
      ]
    },
    {
      "cell_type": "markdown",
      "metadata": {},
      "source": [
        "Most customers have administrative jobs (\"admin.\") with the highest frequency (2046 out of 8227 valid records). The majority of customers are married (4943 out of 8237), have a university degree (\"university.degree\") as their highest level of education (2456 out of 8237), and do not have credit issues (\"default\") with a frequency of 6533. Most also own a house (\"housing\") and do not take personal loans (\"loan\"), with frequencies of 4308 and 6890, respectively. The main contact method was through mobile phones (\"cellular\") with a frequency of 5253 out of a total of 8237 customers. The most frequent contact month was May (\"may\") with a frequency of 2754, and the most frequent day was Monday (\"mon\") with a frequency of 1703. The most common campaign result was no previous outcome (\"nonexistent\") in prior contacts (7087 out of 8237). Finally, most customers did not subscribe (\"no\") to term deposits, with 7303 out of 8237 customers."
      ]
    },
    {
      "cell_type": "code",
      "execution_count": 10,
      "metadata": {
        "colab": {
          "base_uri": "https://localhost:8080/"
        },
        "id": "HQapFh0NYjjH",
        "outputId": "79bc92ff-1e6c-49a3-c4a1-7599017e1ba4"
      },
      "outputs": [
        {
          "data": {
            "text/plain": [
              "1"
            ]
          },
          "execution_count": 10,
          "metadata": {},
          "output_type": "execute_result"
        }
      ],
      "source": [
        "bank_data_.duplicated().sum()"
      ]
    },
    {
      "cell_type": "code",
      "execution_count": 11,
      "metadata": {
        "colab": {
          "base_uri": "https://localhost:8080/"
        },
        "id": "XuYHSixsf1HG",
        "outputId": "64d3b0fc-6ef4-4b8d-aea1-6d2c887c8b46"
      },
      "outputs": [
        {
          "name": "stdout",
          "output_type": "stream",
          "text": [
            "      age         job   marital    education default housing loan   contact  \\\n",
            "255    47  technician  divorced  high.school      no     yes   no  cellular   \n",
            "2725   47  technician  divorced  high.school      no     yes   no  cellular   \n",
            "\n",
            "     month day_of_week  duration  campaign  pdays  previous     poutcome   y  \n",
            "255    jul         thu      43.0         3    999         0  nonexistent  no  \n",
            "2725   jul         thu      43.0         3    999         0  nonexistent  no  \n"
          ]
        }
      ],
      "source": [
        "# Display duplicated rows\n",
        "duplicated_rows = bank_data_[bank_data_.duplicated(keep=False)]\n",
        "\n",
        "# Display the duplicated rows\n",
        "print(duplicated_rows)"
      ]
    },
    {
      "cell_type": "markdown",
      "metadata": {},
      "source": [
        "I dropped this duplicate data because the duplicate entries had the same values or there was redundancy."
      ]
    },
    {
      "cell_type": "code",
      "execution_count": 12,
      "metadata": {
        "colab": {
          "base_uri": "https://localhost:8080/"
        },
        "id": "BVlT4aYQk8Fl",
        "outputId": "b6ddcc84-52a1-480d-b46f-a8f7d6b21781"
      },
      "outputs": [
        {
          "data": {
            "text/plain": [
              "0"
            ]
          },
          "execution_count": 12,
          "metadata": {},
          "output_type": "execute_result"
        }
      ],
      "source": [
        "bank_data_ = bank_data_.drop_duplicates(keep ='last')\n",
        "bank_data_.duplicated().sum()"
      ]
    },
    {
      "cell_type": "markdown",
      "metadata": {},
      "source": [
        "### Data Analysis"
      ]
    },
    {
      "cell_type": "code",
      "execution_count": 13,
      "metadata": {
        "colab": {
          "base_uri": "https://localhost:8080/",
          "height": 501
        },
        "id": "mU4bmdMkd5C6",
        "outputId": "2911455b-18c7-4db3-a827-d4c8dfec24fe"
      },
      "outputs": [
        {
          "data": {
            "image/png": "[encoded data removed]",
            "text/plain": [
              "<Figure size 1800x900 with 2 Axes>"
            ]
          },
          "metadata": {},
          "output_type": "display_data"
        }
      ],
      "source": [
        "bank_data_.loc[(bank_data_.y == \"yes\"), \"y\"] = 1\n",
        "bank_data_.loc[(bank_data_.y == \"no\"), \"y\"] = 0\n",
        "bank_data_['y'] = bank_data_['y'].astype('int64')\n",
        "\n",
        "# Create a heatmap plot\n",
        "plt.figure(figsize=(18, 9))\n",
        "sns.set(font_scale=1.2)  \n",
        "sns.heatmap(bank_data_.corr(numeric_only=True), annot=True, cmap='Blues', linewidths=1, linecolor='#000000')\n",
        "plt.title('Correlation Heatmap', fontsize=20)  \n",
        "plt.show()"
      ]
    },
    {
      "cell_type": "markdown",
      "metadata": {},
      "source": [
        "High negative correlation between `pdays` and `previous`: The more often clients are contacted previously, the shorter the time since the last contact.\n",
        "\n",
        "High positive correlation between `y` and `duration`: The longer the duration of the contact, the greater the likelihood that the client will subscribe to a term deposit.\n",
        "\n",
        "High negative correlation between `y` and `pdays`: The longer the time since the last contact, the lower the likelihood that the client will subscribe to a term deposit."
      ]
    },
    {
      "cell_type": "code",
      "execution_count": 14,
      "metadata": {
        "colab": {
          "base_uri": "https://localhost:8080/",
          "height": 598
        },
        "id": "TzItxMgofac8",
        "outputId": "6b300c9e-2843-49ad-b33d-090d3a305b81"
      },
      "outputs": [
        {
          "data": {
            "image/png": "[encoded data removed]",
            "text/plain": [
              "<Figure size 800x600 with 1 Axes>"
            ]
          },
          "metadata": {},
          "output_type": "display_data"
        }
      ],
      "source": [
        "plt.figure(figsize=(8, 6))\n",
        "sns.barplot(x='y', y='duration', data=bank_data_, palette='Set2', ci=None)\n",
        "plt.title('Average Duration by Subscription Status')\n",
        "plt.xlabel('Subscription (0 = No, 1 = Yes)')\n",
        "plt.ylabel('Average Duration')\n",
        "plt.show()\n"
      ]
    },
    {
      "cell_type": "code",
      "execution_count": 15,
      "metadata": {
        "colab": {
          "base_uri": "https://localhost:8080/",
          "height": 598
        },
        "id": "7L0b-GoigWqG",
        "outputId": "2f1639ee-3872-4768-8a17-986f2cc8ad47"
      },
      "outputs": [
        {
          "data": {
            "image/png": "[encoded data removed]",
            "text/plain": [
              "<Figure size 800x600 with 1 Axes>"
            ]
          },
          "metadata": {},
          "output_type": "display_data"
        }
      ],
      "source": [
        "plt.figure(figsize=(8, 6))\n",
        "sns.barplot(x='y', y='pdays', data=bank_data_, palette='pastel', ci=None)\n",
        "plt.title('Average pdays by Subscription Status')\n",
        "plt.xlabel('Subscription (0 = No, 1 = Yes)')\n",
        "plt.ylabel('Average pdays')\n",
        "plt.show()\n"
      ]
    },
    {
      "cell_type": "markdown",
      "metadata": {
        "id": "GVxznCQAlszm"
      },
      "source": [
        "### Split Data into Train and Test Data"
      ]
    },
    {
      "cell_type": "code",
      "execution_count": 16,
      "metadata": {
        "id": "WrZ94_RGlMlB"
      },
      "outputs": [],
      "source": [
        "X_data=bank_data_.drop(['y'],axis=1)\n",
        "y_data=bank_data_['y']"
      ]
    },
    {
      "cell_type": "code",
      "execution_count": 17,
      "metadata": {
        "colab": {
          "base_uri": "https://localhost:8080/"
        },
        "id": "2np2L-hSmvOo",
        "outputId": "2c7eddca-b585-4b76-81eb-c861b6656275"
      },
      "outputs": [
        {
          "name": "stdout",
          "output_type": "stream",
          "text": [
            "X train Shape: (6588, 15)\n",
            "X test Shape: (1648, 15)\n",
            "y train Shape: (6588,)\n",
            "y test Shape: (1648,)\n"
          ]
        }
      ],
      "source": [
        "X_train, X_test, y_train, y_test = train_test_split(X_data, y_data, test_size = 0.2, random_state = 42)\n",
        "\n",
        "# Displaying the size of each train and test data\n",
        "print(\"X train Shape:\",X_train.shape)\n",
        "print(\"X test Shape:\",X_test.shape)\n",
        "print(\"y train Shape:\",y_train.shape)\n",
        "print(\"y test Shape:\",y_test.shape)"
      ]
    },
    {
      "cell_type": "code",
      "execution_count": 18,
      "metadata": {
        "colab": {
          "base_uri": "https://localhost:8080/",
          "height": 226
        },
        "id": "cqB2kPmhoijL",
        "outputId": "6da9495d-aacd-4c4e-876d-394afee874df"
      },
      "outputs": [
        {
          "data": {
            "text/html": [
              "<div>\n",
              "<style scoped>\n",
              "    .dataframe tbody tr th:only-of-type {\n",
              "        vertical-align: middle;\n",
              "    }\n",
              "\n",
              "    .dataframe tbody tr th {\n",
              "        vertical-align: top;\n",
              "    }\n",
              "\n",
              "    .dataframe thead th {\n",
              "        text-align: right;\n",
              "    }\n",
              "</style>\n",
              "<table border=\"1\" class=\"dataframe\">\n",
              "  <thead>\n",
              "    <tr style=\"text-align: right;\">\n",
              "      <th></th>\n",
              "      <th>age</th>\n",
              "      <th>job</th>\n",
              "      <th>marital</th>\n",
              "      <th>education</th>\n",
              "      <th>default</th>\n",
              "      <th>housing</th>\n",
              "      <th>loan</th>\n",
              "      <th>contact</th>\n",
              "      <th>month</th>\n",
              "      <th>day_of_week</th>\n",
              "      <th>duration</th>\n",
              "      <th>campaign</th>\n",
              "      <th>pdays</th>\n",
              "      <th>previous</th>\n",
              "      <th>poutcome</th>\n",
              "    </tr>\n",
              "  </thead>\n",
              "  <tbody>\n",
              "    <tr>\n",
              "      <th>7298</th>\n",
              "      <td>49</td>\n",
              "      <td>blue-collar</td>\n",
              "      <td>married</td>\n",
              "      <td>unknown</td>\n",
              "      <td>no</td>\n",
              "      <td>no</td>\n",
              "      <td>no</td>\n",
              "      <td>telephone</td>\n",
              "      <td>jun</td>\n",
              "      <td>thu</td>\n",
              "      <td>225.0</td>\n",
              "      <td>1</td>\n",
              "      <td>999</td>\n",
              "      <td>0</td>\n",
              "      <td>nonexistent</td>\n",
              "    </tr>\n",
              "    <tr>\n",
              "      <th>5694</th>\n",
              "      <td>28</td>\n",
              "      <td>services</td>\n",
              "      <td>single</td>\n",
              "      <td>high.school</td>\n",
              "      <td>no</td>\n",
              "      <td>yes</td>\n",
              "      <td>yes</td>\n",
              "      <td>cellular</td>\n",
              "      <td>may</td>\n",
              "      <td>fri</td>\n",
              "      <td>9.0</td>\n",
              "      <td>6</td>\n",
              "      <td>999</td>\n",
              "      <td>0</td>\n",
              "      <td>nonexistent</td>\n",
              "    </tr>\n",
              "    <tr>\n",
              "      <th>5892</th>\n",
              "      <td>49</td>\n",
              "      <td>admin.</td>\n",
              "      <td>single</td>\n",
              "      <td>university.degree</td>\n",
              "      <td>no</td>\n",
              "      <td>no</td>\n",
              "      <td>no</td>\n",
              "      <td>cellular</td>\n",
              "      <td>jul</td>\n",
              "      <td>tue</td>\n",
              "      <td>90.0</td>\n",
              "      <td>4</td>\n",
              "      <td>999</td>\n",
              "      <td>0</td>\n",
              "      <td>nonexistent</td>\n",
              "    </tr>\n",
              "    <tr>\n",
              "      <th>5457</th>\n",
              "      <td>50</td>\n",
              "      <td>entrepreneur</td>\n",
              "      <td>married</td>\n",
              "      <td>basic.9y</td>\n",
              "      <td>no</td>\n",
              "      <td>yes</td>\n",
              "      <td>no</td>\n",
              "      <td>cellular</td>\n",
              "      <td>nov</td>\n",
              "      <td>tue</td>\n",
              "      <td>241.0</td>\n",
              "      <td>2</td>\n",
              "      <td>999</td>\n",
              "      <td>1</td>\n",
              "      <td>failure</td>\n",
              "    </tr>\n",
              "    <tr>\n",
              "      <th>100</th>\n",
              "      <td>28</td>\n",
              "      <td>admin.</td>\n",
              "      <td>single</td>\n",
              "      <td>university.degree</td>\n",
              "      <td>no</td>\n",
              "      <td>no</td>\n",
              "      <td>no</td>\n",
              "      <td>cellular</td>\n",
              "      <td>oct</td>\n",
              "      <td>thu</td>\n",
              "      <td>72.0</td>\n",
              "      <td>2</td>\n",
              "      <td>999</td>\n",
              "      <td>0</td>\n",
              "      <td>nonexistent</td>\n",
              "    </tr>\n",
              "  </tbody>\n",
              "</table>\n",
              "</div>"
            ],
            "text/plain": [
              "      age           job  marital          education default housing loan  \\\n",
              "7298   49   blue-collar  married            unknown      no      no   no   \n",
              "5694   28      services   single        high.school      no     yes  yes   \n",
              "5892   49        admin.   single  university.degree      no      no   no   \n",
              "5457   50  entrepreneur  married           basic.9y      no     yes   no   \n",
              "100    28        admin.   single  university.degree      no      no   no   \n",
              "\n",
              "        contact month day_of_week  duration  campaign  pdays  previous  \\\n",
              "7298  telephone   jun         thu     225.0         1    999         0   \n",
              "5694   cellular   may         fri       9.0         6    999         0   \n",
              "5892   cellular   jul         tue      90.0         4    999         0   \n",
              "5457   cellular   nov         tue     241.0         2    999         1   \n",
              "100    cellular   oct         thu      72.0         2    999         0   \n",
              "\n",
              "         poutcome  \n",
              "7298  nonexistent  \n",
              "5694  nonexistent  \n",
              "5892  nonexistent  \n",
              "5457      failure  \n",
              "100   nonexistent  "
            ]
          },
          "execution_count": 18,
          "metadata": {},
          "output_type": "execute_result"
        }
      ],
      "source": [
        "X_train.head()"
      ]
    },
    {
      "cell_type": "code",
      "execution_count": 19,
      "metadata": {
        "colab": {
          "base_uri": "https://localhost:8080/"
        },
        "id": "nxmZajbfpGyh",
        "outputId": "825325b6-150c-4689-efa6-d4ffefc499b6"
      },
      "outputs": [
        {
          "data": {
            "text/plain": [
              "7298    0\n",
              "5694    0\n",
              "5892    0\n",
              "5457    0\n",
              "100     0\n",
              "Name: y, dtype: int64"
            ]
          },
          "execution_count": 19,
          "metadata": {},
          "output_type": "execute_result"
        }
      ],
      "source": [
        "y_train.head()"
      ]
    },
    {
      "cell_type": "code",
      "execution_count": 20,
      "metadata": {
        "colab": {
          "base_uri": "https://localhost:8080/",
          "height": 244
        },
        "id": "8P5Q9Tm3pLY8",
        "outputId": "258fd84d-e288-46b1-e474-26cf19414a01"
      },
      "outputs": [
        {
          "data": {
            "text/html": [
              "<div>\n",
              "<style scoped>\n",
              "    .dataframe tbody tr th:only-of-type {\n",
              "        vertical-align: middle;\n",
              "    }\n",
              "\n",
              "    .dataframe tbody tr th {\n",
              "        vertical-align: top;\n",
              "    }\n",
              "\n",
              "    .dataframe thead th {\n",
              "        text-align: right;\n",
              "    }\n",
              "</style>\n",
              "<table border=\"1\" class=\"dataframe\">\n",
              "  <thead>\n",
              "    <tr style=\"text-align: right;\">\n",
              "      <th></th>\n",
              "      <th>age</th>\n",
              "      <th>job</th>\n",
              "      <th>marital</th>\n",
              "      <th>education</th>\n",
              "      <th>default</th>\n",
              "      <th>housing</th>\n",
              "      <th>loan</th>\n",
              "      <th>contact</th>\n",
              "      <th>month</th>\n",
              "      <th>day_of_week</th>\n",
              "      <th>duration</th>\n",
              "      <th>campaign</th>\n",
              "      <th>pdays</th>\n",
              "      <th>previous</th>\n",
              "      <th>poutcome</th>\n",
              "    </tr>\n",
              "  </thead>\n",
              "  <tbody>\n",
              "    <tr>\n",
              "      <th>707</th>\n",
              "      <td>39</td>\n",
              "      <td>management</td>\n",
              "      <td>single</td>\n",
              "      <td>university.degree</td>\n",
              "      <td>no</td>\n",
              "      <td>yes</td>\n",
              "      <td>no</td>\n",
              "      <td>cellular</td>\n",
              "      <td>may</td>\n",
              "      <td>tue</td>\n",
              "      <td>103.0</td>\n",
              "      <td>1</td>\n",
              "      <td>999</td>\n",
              "      <td>1</td>\n",
              "      <td>failure</td>\n",
              "    </tr>\n",
              "    <tr>\n",
              "      <th>6028</th>\n",
              "      <td>41</td>\n",
              "      <td>self-employed</td>\n",
              "      <td>married</td>\n",
              "      <td>university.degree</td>\n",
              "      <td>no</td>\n",
              "      <td>yes</td>\n",
              "      <td>no</td>\n",
              "      <td>cellular</td>\n",
              "      <td>aug</td>\n",
              "      <td>mon</td>\n",
              "      <td>113.0</td>\n",
              "      <td>2</td>\n",
              "      <td>999</td>\n",
              "      <td>0</td>\n",
              "      <td>nonexistent</td>\n",
              "    </tr>\n",
              "    <tr>\n",
              "      <th>7669</th>\n",
              "      <td>48</td>\n",
              "      <td>blue-collar</td>\n",
              "      <td>married</td>\n",
              "      <td>basic.9y</td>\n",
              "      <td>no</td>\n",
              "      <td>no</td>\n",
              "      <td>yes</td>\n",
              "      <td>cellular</td>\n",
              "      <td>aug</td>\n",
              "      <td>mon</td>\n",
              "      <td>221.0</td>\n",
              "      <td>1</td>\n",
              "      <td>999</td>\n",
              "      <td>0</td>\n",
              "      <td>nonexistent</td>\n",
              "    </tr>\n",
              "    <tr>\n",
              "      <th>6957</th>\n",
              "      <td>31</td>\n",
              "      <td>admin.</td>\n",
              "      <td>divorced</td>\n",
              "      <td>high.school</td>\n",
              "      <td>no</td>\n",
              "      <td>no</td>\n",
              "      <td>yes</td>\n",
              "      <td>telephone</td>\n",
              "      <td>may</td>\n",
              "      <td>fri</td>\n",
              "      <td>100.0</td>\n",
              "      <td>4</td>\n",
              "      <td>999</td>\n",
              "      <td>0</td>\n",
              "      <td>nonexistent</td>\n",
              "    </tr>\n",
              "    <tr>\n",
              "      <th>6478</th>\n",
              "      <td>73</td>\n",
              "      <td>retired</td>\n",
              "      <td>married</td>\n",
              "      <td>basic.4y</td>\n",
              "      <td>unknown</td>\n",
              "      <td>no</td>\n",
              "      <td>no</td>\n",
              "      <td>cellular</td>\n",
              "      <td>aug</td>\n",
              "      <td>wed</td>\n",
              "      <td>76.0</td>\n",
              "      <td>1</td>\n",
              "      <td>999</td>\n",
              "      <td>0</td>\n",
              "      <td>nonexistent</td>\n",
              "    </tr>\n",
              "  </tbody>\n",
              "</table>\n",
              "</div>"
            ],
            "text/plain": [
              "      age            job   marital          education  default housing loan  \\\n",
              "707    39     management    single  university.degree       no     yes   no   \n",
              "6028   41  self-employed   married  university.degree       no     yes   no   \n",
              "7669   48    blue-collar   married           basic.9y       no      no  yes   \n",
              "6957   31         admin.  divorced        high.school       no      no  yes   \n",
              "6478   73        retired   married           basic.4y  unknown      no   no   \n",
              "\n",
              "        contact month day_of_week  duration  campaign  pdays  previous  \\\n",
              "707    cellular   may         tue     103.0         1    999         1   \n",
              "6028   cellular   aug         mon     113.0         2    999         0   \n",
              "7669   cellular   aug         mon     221.0         1    999         0   \n",
              "6957  telephone   may         fri     100.0         4    999         0   \n",
              "6478   cellular   aug         wed      76.0         1    999         0   \n",
              "\n",
              "         poutcome  \n",
              "707       failure  \n",
              "6028  nonexistent  \n",
              "7669  nonexistent  \n",
              "6957  nonexistent  \n",
              "6478  nonexistent  "
            ]
          },
          "execution_count": 20,
          "metadata": {},
          "output_type": "execute_result"
        }
      ],
      "source": [
        "X_test.head()"
      ]
    },
    {
      "cell_type": "code",
      "execution_count": 21,
      "metadata": {
        "colab": {
          "base_uri": "https://localhost:8080/"
        },
        "id": "aNOOPaj7pOm3",
        "outputId": "1b409c6c-0e20-4474-8064-2f391942bae5"
      },
      "outputs": [
        {
          "data": {
            "text/plain": [
              "707     0\n",
              "6028    0\n",
              "7669    0\n",
              "6957    0\n",
              "6478    0\n",
              "Name: y, dtype: int64"
            ]
          },
          "execution_count": 21,
          "metadata": {},
          "output_type": "execute_result"
        }
      ],
      "source": [
        "y_test.head()"
      ]
    },
    {
      "cell_type": "markdown",
      "metadata": {
        "id": "HFbsFGawr3SK"
      },
      "source": [
        "### Handling Missing Values"
      ]
    },
    {
      "cell_type": "code",
      "execution_count": 22,
      "metadata": {
        "colab": {
          "base_uri": "https://localhost:8080/",
          "height": 564
        },
        "id": "IvYVFq_ftOUN",
        "outputId": "88a4cbf7-94b5-4ee1-b859-ccbd7ff04040"
      },
      "outputs": [
        {
          "data": {
            "image/png": "[encoded data removed]",
            "text/plain": [
              "<Figure size 1500x1000 with 4 Axes>"
            ]
          },
          "metadata": {},
          "output_type": "display_data"
        }
      ],
      "source": [
        "# Check Outliers untuk numeric_columns\n",
        "\n",
        "# Identify categorical and numerical columns\n",
        "categorical_columns = ['job', 'marital', 'education', 'default', 'housing', 'loan', 'contact', 'month', 'day_of_week', 'poutcome']\n",
        "numeric_columns = ['age', 'campaign', 'pdays', 'previous']\n",
        "\n",
        "fig, axes = plt.subplots(2, 2, figsize=(15, 10))\n",
        "\n",
        "for i, column in enumerate(numeric_columns):\n",
        "    row_index = i // 2\n",
        "    col_index = i % 2\n",
        "    X_train.boxplot(column=column, ax=axes[row_index, col_index])\n",
        "    axes[row_index, col_index].set_title(column)\n",
        "\n",
        "plt.tight_layout()\n",
        "plt.show()"
      ]
    },
    {
      "cell_type": "code",
      "execution_count": 23,
      "metadata": {
        "colab": {
          "base_uri": "https://localhost:8080/"
        },
        "id": "iOLDXC8iuLSy",
        "outputId": "3233159a-84b8-409d-b661-c9d0782190a4"
      },
      "outputs": [
        {
          "name": "stdout",
          "output_type": "stream",
          "text": [
            "Number of outliers in column age: 63 (0.96%)\n",
            "Number of outliers in column campaign: 382 (5.80%)\n",
            "Number of outliers in column pdays: 238 (3.61%)\n",
            "Number of outliers in column previous: 926 (14.06%)\n"
          ]
        }
      ],
      "source": [
        "# Calculate outliers\n",
        "outlier_counts = {}\n",
        "total_counts = X_train.shape[0]\n",
        "for column in numeric_columns:\n",
        "    Q1 = X_train[column].quantile(0.25)\n",
        "    Q3 = X_train[column].quantile(0.75)\n",
        "    IQR = Q3 - Q1\n",
        "    lower_bound = Q1 - 1.5 * IQR\n",
        "    upper_bound = Q3 + 1.5 * IQR\n",
        "    outliers = X_train[(X_train[column] < lower_bound) | (X_train[column] > upper_bound)]\n",
        "    outlier_counts[column] = {\n",
        "        'count': outliers.shape[0],\n",
        "        'percentage': (outliers.shape[0] / total_counts) * 100\n",
        "    }\n",
        "\n",
        "# Display outlier counts and percentages\n",
        "for column, info in outlier_counts.items():\n",
        "    print(f\"Number of outliers in column {column}: {info['count']} ({info['percentage']:.2f}%)\")"
      ]
    },
    {
      "cell_type": "code",
      "execution_count": 24,
      "metadata": {
        "colab": {
          "base_uri": "https://localhost:8080/"
        },
        "id": "Ba8KDPyapWZd",
        "outputId": "ed18faff-03c8-4932-9e3b-622075e0f0ea"
      },
      "outputs": [
        {
          "data": {
            "text/plain": [
              "age             0\n",
              "job             9\n",
              "marital         0\n",
              "education       0\n",
              "default         0\n",
              "housing         0\n",
              "loan            0\n",
              "contact         0\n",
              "month           0\n",
              "day_of_week     0\n",
              "duration       13\n",
              "campaign        0\n",
              "pdays           0\n",
              "previous        0\n",
              "poutcome        0\n",
              "dtype: int64"
            ]
          },
          "execution_count": 24,
          "metadata": {},
          "output_type": "execute_result"
        }
      ],
      "source": [
        "X_train.isna().sum()"
      ]
    },
    {
      "cell_type": "code",
      "execution_count": 25,
      "metadata": {
        "colab": {
          "base_uri": "https://localhost:8080/"
        },
        "id": "GEJPwqzzpq6b",
        "outputId": "566c68aa-aaf4-47a8-ba51-22fea288b0a6"
      },
      "outputs": [
        {
          "data": {
            "text/plain": [
              "age            0\n",
              "job            1\n",
              "marital        0\n",
              "education      0\n",
              "default        0\n",
              "housing        0\n",
              "loan           0\n",
              "contact        0\n",
              "month          0\n",
              "day_of_week    0\n",
              "duration       2\n",
              "campaign       0\n",
              "pdays          0\n",
              "previous       0\n",
              "poutcome       0\n",
              "dtype: int64"
            ]
          },
          "execution_count": 25,
          "metadata": {},
          "output_type": "execute_result"
        }
      ],
      "source": [
        "X_test.isna().sum()"
      ]
    },
    {
      "cell_type": "markdown",
      "metadata": {},
      "source": [
        "### Data Imputation for Handling Missing Values"
      ]
    },
    {
      "cell_type": "markdown",
      "metadata": {},
      "source": [
        "The most frequently occurring value in the `job` column will be used as the imputation for the `job` column."
      ]
    },
    {
      "cell_type": "code",
      "execution_count": 26,
      "metadata": {
        "colab": {
          "base_uri": "https://localhost:8080/"
        },
        "id": "bTE3QVXpUVIU",
        "outputId": "6a78fadd-4dd9-4f55-ca54-8df6bcc9ddfe"
      },
      "outputs": [
        {
          "name": "stdout",
          "output_type": "stream",
          "text": [
            "admin.\n"
          ]
        }
      ],
      "source": [
        "import statistics as sts\n",
        "print(sts.mode(X_train['job']))"
      ]
    },
    {
      "cell_type": "code",
      "execution_count": 27,
      "metadata": {
        "colab": {
          "base_uri": "https://localhost:8080/"
        },
        "id": "sQgkQW5bsFPI",
        "outputId": "39cd1b1b-d0ae-4a63-c544-f6a47ddcf26d"
      },
      "outputs": [
        {
          "name": "stdout",
          "output_type": "stream",
          "text": [
            "Missing values after handling:\n",
            "age            0\n",
            "job            0\n",
            "marital        0\n",
            "education      0\n",
            "default        0\n",
            "housing        0\n",
            "loan           0\n",
            "contact        0\n",
            "month          0\n",
            "day_of_week    0\n",
            "duration       0\n",
            "campaign       0\n",
            "pdays          0\n",
            "previous       0\n",
            "poutcome       0\n",
            "dtype: int64\n"
          ]
        }
      ],
      "source": [
        "# For the categorical column `job`: fill with the mode.\n",
        "mode_job = X_train['job'].mode()[0]\n",
        "X_train['job'].fillna(mode_job, inplace=True)\n",
        "X_test['job'].fillna(mode_job, inplace=True)\n",
        "\n",
        "# For the numerical column `duration`: fill with the median.\n",
        "median_duration = X_train['duration'].median()\n",
        "X_train['duration'].fillna(median_duration, inplace=True)\n",
        "X_test['duration'].fillna(median_duration, inplace=True)\n",
        "\n",
        "# After Handling Missing Values\n",
        "print(\"Missing values after handling:\")\n",
        "print(X_train.isnull().sum())\n"
      ]
    },
    {
      "cell_type": "markdown",
      "metadata": {
        "id": "PBi70zAbzA3w"
      },
      "source": [
        "# Performing Encoding on Categorical Features"
      ]
    },
    {
      "cell_type": "code",
      "execution_count": 28,
      "metadata": {
        "colab": {
          "base_uri": "https://localhost:8080/"
        },
        "id": "4niX0WSlyCHe",
        "outputId": "d33f3fe3-30a9-43b9-ae68-cb364819dc7e"
      },
      "outputs": [
        {
          "name": "stdout",
          "output_type": "stream",
          "text": [
            "<class 'pandas.core.frame.DataFrame'>\n",
            "Index: 6588 entries, 7298 to 7271\n",
            "Data columns (total 15 columns):\n",
            " #   Column       Non-Null Count  Dtype  \n",
            "---  ------       --------------  -----  \n",
            " 0   age          6588 non-null   int64  \n",
            " 1   job          6588 non-null   object \n",
            " 2   marital      6588 non-null   object \n",
            " 3   education    6588 non-null   object \n",
            " 4   default      6588 non-null   object \n",
            " 5   housing      6588 non-null   object \n",
            " 6   loan         6588 non-null   object \n",
            " 7   contact      6588 non-null   object \n",
            " 8   month        6588 non-null   object \n",
            " 9   day_of_week  6588 non-null   object \n",
            " 10  duration     6588 non-null   float64\n",
            " 11  campaign     6588 non-null   int64  \n",
            " 12  pdays        6588 non-null   int64  \n",
            " 13  previous     6588 non-null   int64  \n",
            " 14  poutcome     6588 non-null   object \n",
            "dtypes: float64(1), int64(4), object(10)\n",
            "memory usage: 823.5+ KB\n"
          ]
        }
      ],
      "source": [
        "X_train.info()"
      ]
    },
    {
      "cell_type": "code",
      "execution_count": 29,
      "metadata": {
        "id": "ceAdQrYvyU2O"
      },
      "outputs": [],
      "source": [
        "import pandas as pd\n",
        "from sklearn.preprocessing import OneHotEncoder, OrdinalEncoder\n",
        "\n",
        "# Automatically Identify Categorical Columns\n",
        "categorical_columns = X_train.select_dtypes(include=['object']).columns.tolist()\n",
        "\n",
        "# Specify Nominal and Ordinal Columns\n",
        "nominal_columns = ['job', 'marital', 'education', 'default', 'housing', 'loan', 'contact', 'poutcome']\n",
        "ordinal_columns = ['month', 'day_of_week']\n",
        "\n",
        "# Columns that are automatically identified belong to one of the above categories\n",
        "nominal_columns = [col for col in categorical_columns if col in nominal_columns]\n",
        "ordinal_columns = [col for col in categorical_columns if col in ordinal_columns]\n",
        "\n",
        "# Create Mapping for Ordinal Columns\n",
        "month_mapping = ['jan', 'feb', 'mar', 'apr', 'may', 'jun', 'jul', 'aug', 'sep', 'oct', 'nov', 'dec']\n",
        "day_mapping = ['mon', 'tue', 'wed', 'thu', 'fri']\n",
        "\n",
        "# One-Hot Encoding for Nominal Columns\n",
        "one_hot_encoder = OneHotEncoder(sparse_output=False)\n",
        "one_hot_encoded_train = one_hot_encoder.fit_transform(X_train[nominal_columns])\n",
        "one_hot_encoded_test = one_hot_encoder.transform(X_test[nominal_columns])\n",
        "\n",
        "# Creating a DataFrame for One-Hot Encoding Results\n",
        "one_hot_encoded_train_df = pd.DataFrame(one_hot_encoded_train, columns=one_hot_encoder.get_feature_names_out(nominal_columns), index=X_train.index)\n",
        "one_hot_encoded_test_df = pd.DataFrame(one_hot_encoded_test, columns=one_hot_encoder.get_feature_names_out(nominal_columns), index=X_test.index)\n",
        "\n",
        "# Ordinal Encoding for Ordinal Columns\n",
        "ordinal_encoder = OrdinalEncoder(categories=[month_mapping, day_mapping])\n",
        "ordinal_encoded_train = ordinal_encoder.fit_transform(X_train[ordinal_columns])\n",
        "ordinal_encoded_test = ordinal_encoder.transform(X_test[ordinal_columns])\n",
        "\n",
        "# Creating a DataFrame for Ordinal Encoding Results\n",
        "ordinal_encoded_train_df = pd.DataFrame(ordinal_encoded_train, columns=ordinal_columns, index=X_train.index)\n",
        "ordinal_encoded_test_df = pd.DataFrame(ordinal_encoded_test, columns=ordinal_columns, index=X_test.index)\n",
        "\n",
        "# Merging All Encoded DataFrames with Numeric Columns\n",
        "numerical_columns = [col for col in X_train.columns if col not in categorical_columns]\n",
        "X_train = pd.concat([X_train[numerical_columns], one_hot_encoded_train_df, ordinal_encoded_train_df], axis=1)\n",
        "X_test = pd.concat([X_test[numerical_columns], one_hot_encoded_test_df, ordinal_encoded_test_df], axis=1)\n"
      ]
    },
    {
      "cell_type": "code",
      "execution_count": 30,
      "metadata": {
        "colab": {
          "base_uri": "https://localhost:8080/",
          "height": 273
        },
        "id": "JQJQ_bbkJS1Q",
        "outputId": "f3f64e6c-2bbf-4e6e-9bab-6621e1f1e430"
      },
      "outputs": [
        {
          "data": {
            "text/html": [
              "<div>\n",
              "<style scoped>\n",
              "    .dataframe tbody tr th:only-of-type {\n",
              "        vertical-align: middle;\n",
              "    }\n",
              "\n",
              "    .dataframe tbody tr th {\n",
              "        vertical-align: top;\n",
              "    }\n",
              "\n",
              "    .dataframe thead th {\n",
              "        text-align: right;\n",
              "    }\n",
              "</style>\n",
              "<table border=\"1\" class=\"dataframe\">\n",
              "  <thead>\n",
              "    <tr style=\"text-align: right;\">\n",
              "      <th></th>\n",
              "      <th>age</th>\n",
              "      <th>duration</th>\n",
              "      <th>campaign</th>\n",
              "      <th>pdays</th>\n",
              "      <th>previous</th>\n",
              "      <th>job_admin.</th>\n",
              "      <th>job_blue-collar</th>\n",
              "      <th>job_entrepreneur</th>\n",
              "      <th>job_housemaid</th>\n",
              "      <th>job_management</th>\n",
              "      <th>...</th>\n",
              "      <th>loan_no</th>\n",
              "      <th>loan_unknown</th>\n",
              "      <th>loan_yes</th>\n",
              "      <th>contact_cellular</th>\n",
              "      <th>contact_telephone</th>\n",
              "      <th>poutcome_failure</th>\n",
              "      <th>poutcome_nonexistent</th>\n",
              "      <th>poutcome_success</th>\n",
              "      <th>month</th>\n",
              "      <th>day_of_week</th>\n",
              "    </tr>\n",
              "  </thead>\n",
              "  <tbody>\n",
              "    <tr>\n",
              "      <th>7298</th>\n",
              "      <td>49</td>\n",
              "      <td>225.0</td>\n",
              "      <td>1</td>\n",
              "      <td>999</td>\n",
              "      <td>0</td>\n",
              "      <td>0.0</td>\n",
              "      <td>1.0</td>\n",
              "      <td>0.0</td>\n",
              "      <td>0.0</td>\n",
              "      <td>0.0</td>\n",
              "      <td>...</td>\n",
              "      <td>1.0</td>\n",
              "      <td>0.0</td>\n",
              "      <td>0.0</td>\n",
              "      <td>0.0</td>\n",
              "      <td>1.0</td>\n",
              "      <td>0.0</td>\n",
              "      <td>1.0</td>\n",
              "      <td>0.0</td>\n",
              "      <td>5.0</td>\n",
              "      <td>3.0</td>\n",
              "    </tr>\n",
              "    <tr>\n",
              "      <th>5694</th>\n",
              "      <td>28</td>\n",
              "      <td>9.0</td>\n",
              "      <td>6</td>\n",
              "      <td>999</td>\n",
              "      <td>0</td>\n",
              "      <td>0.0</td>\n",
              "      <td>0.0</td>\n",
              "      <td>0.0</td>\n",
              "      <td>0.0</td>\n",
              "      <td>0.0</td>\n",
              "      <td>...</td>\n",
              "      <td>0.0</td>\n",
              "      <td>0.0</td>\n",
              "      <td>1.0</td>\n",
              "      <td>1.0</td>\n",
              "      <td>0.0</td>\n",
              "      <td>0.0</td>\n",
              "      <td>1.0</td>\n",
              "      <td>0.0</td>\n",
              "      <td>4.0</td>\n",
              "      <td>4.0</td>\n",
              "    </tr>\n",
              "    <tr>\n",
              "      <th>5892</th>\n",
              "      <td>49</td>\n",
              "      <td>90.0</td>\n",
              "      <td>4</td>\n",
              "      <td>999</td>\n",
              "      <td>0</td>\n",
              "      <td>1.0</td>\n",
              "      <td>0.0</td>\n",
              "      <td>0.0</td>\n",
              "      <td>0.0</td>\n",
              "      <td>0.0</td>\n",
              "      <td>...</td>\n",
              "      <td>1.0</td>\n",
              "      <td>0.0</td>\n",
              "      <td>0.0</td>\n",
              "      <td>1.0</td>\n",
              "      <td>0.0</td>\n",
              "      <td>0.0</td>\n",
              "      <td>1.0</td>\n",
              "      <td>0.0</td>\n",
              "      <td>6.0</td>\n",
              "      <td>1.0</td>\n",
              "    </tr>\n",
              "    <tr>\n",
              "      <th>5457</th>\n",
              "      <td>50</td>\n",
              "      <td>241.0</td>\n",
              "      <td>2</td>\n",
              "      <td>999</td>\n",
              "      <td>1</td>\n",
              "      <td>0.0</td>\n",
              "      <td>0.0</td>\n",
              "      <td>1.0</td>\n",
              "      <td>0.0</td>\n",
              "      <td>0.0</td>\n",
              "      <td>...</td>\n",
              "      <td>1.0</td>\n",
              "      <td>0.0</td>\n",
              "      <td>0.0</td>\n",
              "      <td>1.0</td>\n",
              "      <td>0.0</td>\n",
              "      <td>1.0</td>\n",
              "      <td>0.0</td>\n",
              "      <td>0.0</td>\n",
              "      <td>10.0</td>\n",
              "      <td>1.0</td>\n",
              "    </tr>\n",
              "    <tr>\n",
              "      <th>100</th>\n",
              "      <td>28</td>\n",
              "      <td>72.0</td>\n",
              "      <td>2</td>\n",
              "      <td>999</td>\n",
              "      <td>0</td>\n",
              "      <td>1.0</td>\n",
              "      <td>0.0</td>\n",
              "      <td>0.0</td>\n",
              "      <td>0.0</td>\n",
              "      <td>0.0</td>\n",
              "      <td>...</td>\n",
              "      <td>1.0</td>\n",
              "      <td>0.0</td>\n",
              "      <td>0.0</td>\n",
              "      <td>1.0</td>\n",
              "      <td>0.0</td>\n",
              "      <td>0.0</td>\n",
              "      <td>1.0</td>\n",
              "      <td>0.0</td>\n",
              "      <td>9.0</td>\n",
              "      <td>3.0</td>\n",
              "    </tr>\n",
              "  </tbody>\n",
              "</table>\n",
              "<p>5 rows × 45 columns</p>\n",
              "</div>"
            ],
            "text/plain": [
              "      age  duration  campaign  pdays  previous  job_admin.  job_blue-collar  \\\n",
              "7298   49     225.0         1    999         0         0.0              1.0   \n",
              "5694   28       9.0         6    999         0         0.0              0.0   \n",
              "5892   49      90.0         4    999         0         1.0              0.0   \n",
              "5457   50     241.0         2    999         1         0.0              0.0   \n",
              "100    28      72.0         2    999         0         1.0              0.0   \n",
              "\n",
              "      job_entrepreneur  job_housemaid  job_management  ...  loan_no  \\\n",
              "7298               0.0            0.0             0.0  ...      1.0   \n",
              "5694               0.0            0.0             0.0  ...      0.0   \n",
              "5892               0.0            0.0             0.0  ...      1.0   \n",
              "5457               1.0            0.0             0.0  ...      1.0   \n",
              "100                0.0            0.0             0.0  ...      1.0   \n",
              "\n",
              "      loan_unknown  loan_yes  contact_cellular  contact_telephone  \\\n",
              "7298           0.0       0.0               0.0                1.0   \n",
              "5694           0.0       1.0               1.0                0.0   \n",
              "5892           0.0       0.0               1.0                0.0   \n",
              "5457           0.0       0.0               1.0                0.0   \n",
              "100            0.0       0.0               1.0                0.0   \n",
              "\n",
              "      poutcome_failure  poutcome_nonexistent  poutcome_success  month  \\\n",
              "7298               0.0                   1.0               0.0    5.0   \n",
              "5694               0.0                   1.0               0.0    4.0   \n",
              "5892               0.0                   1.0               0.0    6.0   \n",
              "5457               1.0                   0.0               0.0   10.0   \n",
              "100                0.0                   1.0               0.0    9.0   \n",
              "\n",
              "      day_of_week  \n",
              "7298          3.0  \n",
              "5694          4.0  \n",
              "5892          1.0  \n",
              "5457          1.0  \n",
              "100           3.0  \n",
              "\n",
              "[5 rows x 45 columns]"
            ]
          },
          "execution_count": 30,
          "metadata": {},
          "output_type": "execute_result"
        }
      ],
      "source": [
        "X_train.head()"
      ]
    },
    {
      "cell_type": "code",
      "execution_count": 31,
      "metadata": {
        "colab": {
          "base_uri": "https://localhost:8080/",
          "height": 273
        },
        "id": "oNf1bfY7RFxm",
        "outputId": "98ae131a-b713-4af0-f8d6-1f62f327d614"
      },
      "outputs": [
        {
          "data": {
            "text/html": [
              "<div>\n",
              "<style scoped>\n",
              "    .dataframe tbody tr th:only-of-type {\n",
              "        vertical-align: middle;\n",
              "    }\n",
              "\n",
              "    .dataframe tbody tr th {\n",
              "        vertical-align: top;\n",
              "    }\n",
              "\n",
              "    .dataframe thead th {\n",
              "        text-align: right;\n",
              "    }\n",
              "</style>\n",
              "<table border=\"1\" class=\"dataframe\">\n",
              "  <thead>\n",
              "    <tr style=\"text-align: right;\">\n",
              "      <th></th>\n",
              "      <th>age</th>\n",
              "      <th>duration</th>\n",
              "      <th>campaign</th>\n",
              "      <th>pdays</th>\n",
              "      <th>previous</th>\n",
              "      <th>job_admin.</th>\n",
              "      <th>job_blue-collar</th>\n",
              "      <th>job_entrepreneur</th>\n",
              "      <th>job_housemaid</th>\n",
              "      <th>job_management</th>\n",
              "      <th>...</th>\n",
              "      <th>loan_no</th>\n",
              "      <th>loan_unknown</th>\n",
              "      <th>loan_yes</th>\n",
              "      <th>contact_cellular</th>\n",
              "      <th>contact_telephone</th>\n",
              "      <th>poutcome_failure</th>\n",
              "      <th>poutcome_nonexistent</th>\n",
              "      <th>poutcome_success</th>\n",
              "      <th>month</th>\n",
              "      <th>day_of_week</th>\n",
              "    </tr>\n",
              "  </thead>\n",
              "  <tbody>\n",
              "    <tr>\n",
              "      <th>707</th>\n",
              "      <td>39</td>\n",
              "      <td>103.0</td>\n",
              "      <td>1</td>\n",
              "      <td>999</td>\n",
              "      <td>1</td>\n",
              "      <td>0.0</td>\n",
              "      <td>0.0</td>\n",
              "      <td>0.0</td>\n",
              "      <td>0.0</td>\n",
              "      <td>1.0</td>\n",
              "      <td>...</td>\n",
              "      <td>1.0</td>\n",
              "      <td>0.0</td>\n",
              "      <td>0.0</td>\n",
              "      <td>1.0</td>\n",
              "      <td>0.0</td>\n",
              "      <td>1.0</td>\n",
              "      <td>0.0</td>\n",
              "      <td>0.0</td>\n",
              "      <td>4.0</td>\n",
              "      <td>1.0</td>\n",
              "    </tr>\n",
              "    <tr>\n",
              "      <th>6028</th>\n",
              "      <td>41</td>\n",
              "      <td>113.0</td>\n",
              "      <td>2</td>\n",
              "      <td>999</td>\n",
              "      <td>0</td>\n",
              "      <td>0.0</td>\n",
              "      <td>0.0</td>\n",
              "      <td>0.0</td>\n",
              "      <td>0.0</td>\n",
              "      <td>0.0</td>\n",
              "      <td>...</td>\n",
              "      <td>1.0</td>\n",
              "      <td>0.0</td>\n",
              "      <td>0.0</td>\n",
              "      <td>1.0</td>\n",
              "      <td>0.0</td>\n",
              "      <td>0.0</td>\n",
              "      <td>1.0</td>\n",
              "      <td>0.0</td>\n",
              "      <td>7.0</td>\n",
              "      <td>0.0</td>\n",
              "    </tr>\n",
              "    <tr>\n",
              "      <th>7669</th>\n",
              "      <td>48</td>\n",
              "      <td>221.0</td>\n",
              "      <td>1</td>\n",
              "      <td>999</td>\n",
              "      <td>0</td>\n",
              "      <td>0.0</td>\n",
              "      <td>1.0</td>\n",
              "      <td>0.0</td>\n",
              "      <td>0.0</td>\n",
              "      <td>0.0</td>\n",
              "      <td>...</td>\n",
              "      <td>0.0</td>\n",
              "      <td>0.0</td>\n",
              "      <td>1.0</td>\n",
              "      <td>1.0</td>\n",
              "      <td>0.0</td>\n",
              "      <td>0.0</td>\n",
              "      <td>1.0</td>\n",
              "      <td>0.0</td>\n",
              "      <td>7.0</td>\n",
              "      <td>0.0</td>\n",
              "    </tr>\n",
              "    <tr>\n",
              "      <th>6957</th>\n",
              "      <td>31</td>\n",
              "      <td>100.0</td>\n",
              "      <td>4</td>\n",
              "      <td>999</td>\n",
              "      <td>0</td>\n",
              "      <td>1.0</td>\n",
              "      <td>0.0</td>\n",
              "      <td>0.0</td>\n",
              "      <td>0.0</td>\n",
              "      <td>0.0</td>\n",
              "      <td>...</td>\n",
              "      <td>0.0</td>\n",
              "      <td>0.0</td>\n",
              "      <td>1.0</td>\n",
              "      <td>0.0</td>\n",
              "      <td>1.0</td>\n",
              "      <td>0.0</td>\n",
              "      <td>1.0</td>\n",
              "      <td>0.0</td>\n",
              "      <td>4.0</td>\n",
              "      <td>4.0</td>\n",
              "    </tr>\n",
              "    <tr>\n",
              "      <th>6478</th>\n",
              "      <td>73</td>\n",
              "      <td>76.0</td>\n",
              "      <td>1</td>\n",
              "      <td>999</td>\n",
              "      <td>0</td>\n",
              "      <td>0.0</td>\n",
              "      <td>0.0</td>\n",
              "      <td>0.0</td>\n",
              "      <td>0.0</td>\n",
              "      <td>0.0</td>\n",
              "      <td>...</td>\n",
              "      <td>1.0</td>\n",
              "      <td>0.0</td>\n",
              "      <td>0.0</td>\n",
              "      <td>1.0</td>\n",
              "      <td>0.0</td>\n",
              "      <td>0.0</td>\n",
              "      <td>1.0</td>\n",
              "      <td>0.0</td>\n",
              "      <td>7.0</td>\n",
              "      <td>2.0</td>\n",
              "    </tr>\n",
              "  </tbody>\n",
              "</table>\n",
              "<p>5 rows × 45 columns</p>\n",
              "</div>"
            ],
            "text/plain": [
              "      age  duration  campaign  pdays  previous  job_admin.  job_blue-collar  \\\n",
              "707    39     103.0         1    999         1         0.0              0.0   \n",
              "6028   41     113.0         2    999         0         0.0              0.0   \n",
              "7669   48     221.0         1    999         0         0.0              1.0   \n",
              "6957   31     100.0         4    999         0         1.0              0.0   \n",
              "6478   73      76.0         1    999         0         0.0              0.0   \n",
              "\n",
              "      job_entrepreneur  job_housemaid  job_management  ...  loan_no  \\\n",
              "707                0.0            0.0             1.0  ...      1.0   \n",
              "6028               0.0            0.0             0.0  ...      1.0   \n",
              "7669               0.0            0.0             0.0  ...      0.0   \n",
              "6957               0.0            0.0             0.0  ...      0.0   \n",
              "6478               0.0            0.0             0.0  ...      1.0   \n",
              "\n",
              "      loan_unknown  loan_yes  contact_cellular  contact_telephone  \\\n",
              "707            0.0       0.0               1.0                0.0   \n",
              "6028           0.0       0.0               1.0                0.0   \n",
              "7669           0.0       1.0               1.0                0.0   \n",
              "6957           0.0       1.0               0.0                1.0   \n",
              "6478           0.0       0.0               1.0                0.0   \n",
              "\n",
              "      poutcome_failure  poutcome_nonexistent  poutcome_success  month  \\\n",
              "707                1.0                   0.0               0.0    4.0   \n",
              "6028               0.0                   1.0               0.0    7.0   \n",
              "7669               0.0                   1.0               0.0    7.0   \n",
              "6957               0.0                   1.0               0.0    4.0   \n",
              "6478               0.0                   1.0               0.0    7.0   \n",
              "\n",
              "      day_of_week  \n",
              "707           1.0  \n",
              "6028          0.0  \n",
              "7669          0.0  \n",
              "6957          4.0  \n",
              "6478          2.0  \n",
              "\n",
              "[5 rows x 45 columns]"
            ]
          },
          "execution_count": 31,
          "metadata": {},
          "output_type": "execute_result"
        }
      ],
      "source": [
        "X_test.head()"
      ]
    },
    {
      "cell_type": "code",
      "execution_count": 32,
      "metadata": {
        "colab": {
          "base_uri": "https://localhost:8080/"
        },
        "id": "UGxoTAnwRKwF",
        "outputId": "08ec82d9-7b4f-42c0-8c9e-ed651964e2b2"
      },
      "outputs": [
        {
          "data": {
            "text/plain": [
              "Index(['age', 'duration', 'campaign', 'pdays', 'previous', 'job_admin.',\n",
              "       'job_blue-collar', 'job_entrepreneur', 'job_housemaid',\n",
              "       'job_management', 'job_retired', 'job_self-employed', 'job_services',\n",
              "       'job_student', 'job_technician', 'job_unemployed', 'job_unknown',\n",
              "       'marital_divorced', 'marital_married', 'marital_single',\n",
              "       'marital_unknown', 'education_basic.4y', 'education_basic.6y',\n",
              "       'education_basic.9y', 'education_high.school', 'education_illiterate',\n",
              "       'education_professional.course', 'education_university.degree',\n",
              "       'education_unknown', 'default_no', 'default_unknown', 'default_yes',\n",
              "       'housing_no', 'housing_unknown', 'housing_yes', 'loan_no',\n",
              "       'loan_unknown', 'loan_yes', 'contact_cellular', 'contact_telephone',\n",
              "       'poutcome_failure', 'poutcome_nonexistent', 'poutcome_success', 'month',\n",
              "       'day_of_week'],\n",
              "      dtype='object')"
            ]
          },
          "execution_count": 32,
          "metadata": {},
          "output_type": "execute_result"
        }
      ],
      "source": [
        "X_train.columns"
      ]
    },
    {
      "cell_type": "code",
      "execution_count": 33,
      "metadata": {
        "colab": {
          "base_uri": "https://localhost:8080/"
        },
        "id": "i0MCXTRncu8I",
        "outputId": "7716a8d1-f978-4ac9-b8c8-f28695cb9a86"
      },
      "outputs": [
        {
          "data": {
            "text/plain": [
              "0    5841\n",
              "1     747\n",
              "Name: count, dtype: int64"
            ]
          },
          "execution_count": 33,
          "metadata": {},
          "output_type": "execute_result"
        }
      ],
      "source": [
        "from sklearn.preprocessing import LabelEncoder\n",
        "import pandas as pd\n",
        "\n",
        "label_encoding = LabelEncoder()\n",
        "\n",
        "# Apply Label Encoding on y_train and y_test\n",
        "y_train_encoded = label_encoding.fit_transform(y_train)\n",
        "y_test_encoded = label_encoding.transform(y_test)\n",
        "\n",
        "y_train = pd.Series(y_train_encoded)\n",
        "y_test = pd.Series(y_test_encoded)\n",
        "\n",
        "y_train.value_counts()"
      ]
    },
    {
      "cell_type": "code",
      "execution_count": 34,
      "metadata": {
        "colab": {
          "base_uri": "https://localhost:8080/"
        },
        "id": "d_v4c-wCqYNq",
        "outputId": "fd97be88-e0ea-4e3b-d751-f058d7ee740f"
      },
      "outputs": [
        {
          "name": "stdout",
          "output_type": "stream",
          "text": [
            "<class 'pandas.core.frame.DataFrame'>\n",
            "Index: 6588 entries, 7298 to 7271\n",
            "Data columns (total 45 columns):\n",
            " #   Column                         Non-Null Count  Dtype  \n",
            "---  ------                         --------------  -----  \n",
            " 0   age                            6588 non-null   int64  \n",
            " 1   duration                       6588 non-null   float64\n",
            " 2   campaign                       6588 non-null   int64  \n",
            " 3   pdays                          6588 non-null   int64  \n",
            " 4   previous                       6588 non-null   int64  \n",
            " 5   job_admin.                     6588 non-null   float64\n",
            " 6   job_blue-collar                6588 non-null   float64\n",
            " 7   job_entrepreneur               6588 non-null   float64\n",
            " 8   job_housemaid                  6588 non-null   float64\n",
            " 9   job_management                 6588 non-null   float64\n",
            " 10  job_retired                    6588 non-null   float64\n",
            " 11  job_self-employed              6588 non-null   float64\n",
            " 12  job_services                   6588 non-null   float64\n",
            " 13  job_student                    6588 non-null   float64\n",
            " 14  job_technician                 6588 non-null   float64\n",
            " 15  job_unemployed                 6588 non-null   float64\n",
            " 16  job_unknown                    6588 non-null   float64\n",
            " 17  marital_divorced               6588 non-null   float64\n",
            " 18  marital_married                6588 non-null   float64\n",
            " 19  marital_single                 6588 non-null   float64\n",
            " 20  marital_unknown                6588 non-null   float64\n",
            " 21  education_basic.4y             6588 non-null   float64\n",
            " 22  education_basic.6y             6588 non-null   float64\n",
            " 23  education_basic.9y             6588 non-null   float64\n",
            " 24  education_high.school          6588 non-null   float64\n",
            " 25  education_illiterate           6588 non-null   float64\n",
            " 26  education_professional.course  6588 non-null   float64\n",
            " 27  education_university.degree    6588 non-null   float64\n",
            " 28  education_unknown              6588 non-null   float64\n",
            " 29  default_no                     6588 non-null   float64\n",
            " 30  default_unknown                6588 non-null   float64\n",
            " 31  default_yes                    6588 non-null   float64\n",
            " 32  housing_no                     6588 non-null   float64\n",
            " 33  housing_unknown                6588 non-null   float64\n",
            " 34  housing_yes                    6588 non-null   float64\n",
            " 35  loan_no                        6588 non-null   float64\n",
            " 36  loan_unknown                   6588 non-null   float64\n",
            " 37  loan_yes                       6588 non-null   float64\n",
            " 38  contact_cellular               6588 non-null   float64\n",
            " 39  contact_telephone              6588 non-null   float64\n",
            " 40  poutcome_failure               6588 non-null   float64\n",
            " 41  poutcome_nonexistent           6588 non-null   float64\n",
            " 42  poutcome_success               6588 non-null   float64\n",
            " 43  month                          6588 non-null   float64\n",
            " 44  day_of_week                    6588 non-null   float64\n",
            "dtypes: float64(41), int64(4)\n",
            "memory usage: 2.3 MB\n"
          ]
        }
      ],
      "source": [
        "X_train.info()"
      ]
    },
    {
      "cell_type": "markdown",
      "metadata": {
        "id": "gav6seVqhp-S"
      },
      "source": [
        "### Modeling (Classification)"
      ]
    },
    {
      "cell_type": "markdown",
      "metadata": {},
      "source": [
        "1. Classification using Support Vector Machine"
      ]
    },
    {
      "cell_type": "code",
      "execution_count": 35,
      "metadata": {
        "colab": {
          "base_uri": "https://localhost:8080/",
          "height": 146
        },
        "id": "D9yWasaNh7gU",
        "outputId": "53aed2c1-6007-472c-a0c5-9766a3b0301c"
      },
      "outputs": [
        {
          "data": {
            "text/html": [
              "<style>#sk-container-id-1 {color: black;background-color: white;}#sk-container-id-1 pre{padding: 0;}#sk-container-id-1 div.sk-toggleable {background-color: white;}#sk-container-id-1 label.sk-toggleable__label {cursor: pointer;display: block;width: 100%;margin-bottom: 0;padding: 0.3em;box-sizing: border-box;text-align: center;}#sk-container-id-1 label.sk-toggleable__label-arrow:before {content: \"▸\";float: left;margin-right: 0.25em;color: #696969;}#sk-container-id-1 label.sk-toggleable__label-arrow:hover:before {color: black;}#sk-container-id-1 div.sk-estimator:hover label.sk-toggleable__label-arrow:before {color: black;}#sk-container-id-1 div.sk-toggleable__content {max-height: 0;max-width: 0;overflow: hidden;text-align: left;background-color: #f0f8ff;}#sk-container-id-1 div.sk-toggleable__content pre {margin: 0.2em;color: black;border-radius: 0.25em;background-color: #f0f8ff;}#sk-container-id-1 input.sk-toggleable__control:checked~div.sk-toggleable__content {max-height: 200px;max-width: 100%;overflow: auto;}#sk-container-id-1 input.sk-toggleable__control:checked~label.sk-toggleable__label-arrow:before {content: \"▾\";}#sk-container-id-1 div.sk-estimator input.sk-toggleable__control:checked~label.sk-toggleable__label {background-color: #d4ebff;}#sk-container-id-1 div.sk-label input.sk-toggleable__control:checked~label.sk-toggleable__label {background-color: #d4ebff;}#sk-container-id-1 input.sk-hidden--visually {border: 0;clip: rect(1px 1px 1px 1px);clip: rect(1px, 1px, 1px, 1px);height: 1px;margin: -1px;overflow: hidden;padding: 0;position: absolute;width: 1px;}#sk-container-id-1 div.sk-estimator {font-family: monospace;background-color: #f0f8ff;border: 1px dotted black;border-radius: 0.25em;box-sizing: border-box;margin-bottom: 0.5em;}#sk-container-id-1 div.sk-estimator:hover {background-color: #d4ebff;}#sk-container-id-1 div.sk-parallel-item::after {content: \"\";width: 100%;border-bottom: 1px solid gray;flex-grow: 1;}#sk-container-id-1 div.sk-label:hover label.sk-toggleable__label {background-color: #d4ebff;}#sk-container-id-1 div.sk-serial::before {content: \"\";position: absolute;border-left: 1px solid gray;box-sizing: border-box;top: 0;bottom: 0;left: 50%;z-index: 0;}#sk-container-id-1 div.sk-serial {display: flex;flex-direction: column;align-items: center;background-color: white;padding-right: 0.2em;padding-left: 0.2em;position: relative;}#sk-container-id-1 div.sk-item {position: relative;z-index: 1;}#sk-container-id-1 div.sk-parallel {display: flex;align-items: stretch;justify-content: center;background-color: white;position: relative;}#sk-container-id-1 div.sk-item::before, #sk-container-id-1 div.sk-parallel-item::before {content: \"\";position: absolute;border-left: 1px solid gray;box-sizing: border-box;top: 0;bottom: 0;left: 50%;z-index: -1;}#sk-container-id-1 div.sk-parallel-item {display: flex;flex-direction: column;z-index: 1;position: relative;background-color: white;}#sk-container-id-1 div.sk-parallel-item:first-child::after {align-self: flex-end;width: 50%;}#sk-container-id-1 div.sk-parallel-item:last-child::after {align-self: flex-start;width: 50%;}#sk-container-id-1 div.sk-parallel-item:only-child::after {width: 0;}#sk-container-id-1 div.sk-dashed-wrapped {border: 1px dashed gray;margin: 0 0.4em 0.5em 0.4em;box-sizing: border-box;padding-bottom: 0.4em;background-color: white;}#sk-container-id-1 div.sk-label label {font-family: monospace;font-weight: bold;display: inline-block;line-height: 1.2em;}#sk-container-id-1 div.sk-label-container {text-align: center;}#sk-container-id-1 div.sk-container {/* jupyter's `normalize.less` sets `[hidden] { display: none; }` but bootstrap.min.css set `[hidden] { display: none !important; }` so we also need the `!important` here to be able to override the default hidden behavior on the sphinx rendered scikit-learn.org. See: https://github.com/scikit-learn/scikit-learn/issues/21755 */display: inline-block !important;position: relative;}#sk-container-id-1 div.sk-text-repr-fallback {display: none;}</style><div id=\"sk-container-id-1\" class=\"sk-top-container\"><div class=\"sk-text-repr-fallback\"><pre>Pipeline(steps=[(&#x27;scaler&#x27;, StandardScaler()), (&#x27;svm&#x27;, SVC(kernel=&#x27;linear&#x27;))])</pre><b>In a Jupyter environment, please rerun this cell to show the HTML representation or trust the notebook. <br />On GitHub, the HTML representation is unable to render, please try loading this page with nbviewer.org.</b></div><div class=\"sk-container\" hidden><div class=\"sk-item sk-dashed-wrapped\"><div class=\"sk-label-container\"><div class=\"sk-label sk-toggleable\"><input class=\"sk-toggleable__control sk-hidden--visually\" id=\"sk-estimator-id-1\" type=\"checkbox\" ><label for=\"sk-estimator-id-1\" class=\"sk-toggleable__label sk-toggleable__label-arrow\">Pipeline</label><div class=\"sk-toggleable__content\"><pre>Pipeline(steps=[(&#x27;scaler&#x27;, StandardScaler()), (&#x27;svm&#x27;, SVC(kernel=&#x27;linear&#x27;))])</pre></div></div></div><div class=\"sk-serial\"><div class=\"sk-item\"><div class=\"sk-estimator sk-toggleable\"><input class=\"sk-toggleable__control sk-hidden--visually\" id=\"sk-estimator-id-2\" type=\"checkbox\" ><label for=\"sk-estimator-id-2\" class=\"sk-toggleable__label sk-toggleable__label-arrow\">StandardScaler</label><div class=\"sk-toggleable__content\"><pre>StandardScaler()</pre></div></div></div><div class=\"sk-item\"><div class=\"sk-estimator sk-toggleable\"><input class=\"sk-toggleable__control sk-hidden--visually\" id=\"sk-estimator-id-3\" type=\"checkbox\" ><label for=\"sk-estimator-id-3\" class=\"sk-toggleable__label sk-toggleable__label-arrow\">SVC</label><div class=\"sk-toggleable__content\"><pre>SVC(kernel=&#x27;linear&#x27;)</pre></div></div></div></div></div></div></div>"
            ],
            "text/plain": [
              "Pipeline(steps=[('scaler', StandardScaler()), ('svm', SVC(kernel='linear'))])"
            ]
          },
          "execution_count": 35,
          "metadata": {},
          "output_type": "execute_result"
        }
      ],
      "source": [
        "from sklearn.svm import SVC\n",
        "from sklearn.preprocessing import StandardScaler\n",
        "from sklearn.pipeline import Pipeline\n",
        "import warnings\n",
        "warnings.filterwarnings('ignore')\n",
        "\n",
        "\n",
        "# Creating a Model for Scaling and Training SVM\n",
        "Model_SVM_ = Pipeline([\n",
        "    ('scaler', StandardScaler()),  # Standardizing Features with Standard Scaler\n",
        "    ('svm', SVC(kernel='linear', decision_function_shape='ovr')) # OVR or One-vs-Rest\n",
        "])\n",
        "\n",
        "Model_SVM_.fit(X_train, y_train)"
      ]
    },
    {
      "cell_type": "code",
      "execution_count": 36,
      "metadata": {
        "colab": {
          "base_uri": "https://localhost:8080/"
        },
        "id": "kpvSvH2Uiuxv",
        "outputId": "4582bd8b-1556-469f-8423-2d50677a4819"
      },
      "outputs": [
        {
          "name": "stdout",
          "output_type": "stream",
          "text": [
            "Classification Report:\n",
            "              precision    recall  f1-score   support\n",
            "\n",
            "           0       0.91      0.99      0.94      1461\n",
            "           1       0.65      0.21      0.32       187\n",
            "\n",
            "    accuracy                           0.90      1648\n",
            "   macro avg       0.78      0.60      0.63      1648\n",
            "weighted avg       0.88      0.90      0.87      1648\n",
            "\n",
            "\n",
            "Confusion Matrix:\n",
            "[[1440   21]\n",
            " [ 148   39]]\n"
          ]
        }
      ],
      "source": [
        "# Predicting with Test Data\n",
        "y_pred = Model_SVM_.predict(X_test)\n",
        "\n",
        "# Model Evaluation\n",
        "print(\"Classification Report:\")\n",
        "print(classification_report(y_test, y_pred))\n",
        "\n",
        "print(\"\\nConfusion Matrix:\")\n",
        "print(confusion_matrix(y_test, y_pred))"
      ]
    },
    {
      "cell_type": "markdown",
      "metadata": {},
      "source": [
        "The SVM model performs very well in classifying class 0 (precision 91% and recall 99%). However, the performance for class 1 is unsatisfactory (precision 65% and recall 21%), as evidenced by the low F1-score for class 1 (0.32). This indicates that the model is better at identifying class 0 than class 1, which is also reflected in the confusion matrix, where more instances of class 1 are misclassified as class 0. Overall, the model's accuracy is 90%, but the imbalance in performance between class 0 and class 1 needs to be addressed."
      ]
    },
    {
      "cell_type": "markdown",
      "metadata": {},
      "source": [
        "2. Classification using Logistic Regression"
      ]
    },
    {
      "cell_type": "code",
      "execution_count": 37,
      "metadata": {
        "colab": {
          "base_uri": "https://localhost:8080/",
          "height": 146
        },
        "id": "X2hpYokHj3jH",
        "outputId": "b92f50a9-5a82-4afc-b123-7d10a9335c1b"
      },
      "outputs": [
        {
          "data": {
            "text/html": [
              "<style>#sk-container-id-2 {color: black;background-color: white;}#sk-container-id-2 pre{padding: 0;}#sk-container-id-2 div.sk-toggleable {background-color: white;}#sk-container-id-2 label.sk-toggleable__label {cursor: pointer;display: block;width: 100%;margin-bottom: 0;padding: 0.3em;box-sizing: border-box;text-align: center;}#sk-container-id-2 label.sk-toggleable__label-arrow:before {content: \"▸\";float: left;margin-right: 0.25em;color: #696969;}#sk-container-id-2 label.sk-toggleable__label-arrow:hover:before {color: black;}#sk-container-id-2 div.sk-estimator:hover label.sk-toggleable__label-arrow:before {color: black;}#sk-container-id-2 div.sk-toggleable__content {max-height: 0;max-width: 0;overflow: hidden;text-align: left;background-color: #f0f8ff;}#sk-container-id-2 div.sk-toggleable__content pre {margin: 0.2em;color: black;border-radius: 0.25em;background-color: #f0f8ff;}#sk-container-id-2 input.sk-toggleable__control:checked~div.sk-toggleable__content {max-height: 200px;max-width: 100%;overflow: auto;}#sk-container-id-2 input.sk-toggleable__control:checked~label.sk-toggleable__label-arrow:before {content: \"▾\";}#sk-container-id-2 div.sk-estimator input.sk-toggleable__control:checked~label.sk-toggleable__label {background-color: #d4ebff;}#sk-container-id-2 div.sk-label input.sk-toggleable__control:checked~label.sk-toggleable__label {background-color: #d4ebff;}#sk-container-id-2 input.sk-hidden--visually {border: 0;clip: rect(1px 1px 1px 1px);clip: rect(1px, 1px, 1px, 1px);height: 1px;margin: -1px;overflow: hidden;padding: 0;position: absolute;width: 1px;}#sk-container-id-2 div.sk-estimator {font-family: monospace;background-color: #f0f8ff;border: 1px dotted black;border-radius: 0.25em;box-sizing: border-box;margin-bottom: 0.5em;}#sk-container-id-2 div.sk-estimator:hover {background-color: #d4ebff;}#sk-container-id-2 div.sk-parallel-item::after {content: \"\";width: 100%;border-bottom: 1px solid gray;flex-grow: 1;}#sk-container-id-2 div.sk-label:hover label.sk-toggleable__label {background-color: #d4ebff;}#sk-container-id-2 div.sk-serial::before {content: \"\";position: absolute;border-left: 1px solid gray;box-sizing: border-box;top: 0;bottom: 0;left: 50%;z-index: 0;}#sk-container-id-2 div.sk-serial {display: flex;flex-direction: column;align-items: center;background-color: white;padding-right: 0.2em;padding-left: 0.2em;position: relative;}#sk-container-id-2 div.sk-item {position: relative;z-index: 1;}#sk-container-id-2 div.sk-parallel {display: flex;align-items: stretch;justify-content: center;background-color: white;position: relative;}#sk-container-id-2 div.sk-item::before, #sk-container-id-2 div.sk-parallel-item::before {content: \"\";position: absolute;border-left: 1px solid gray;box-sizing: border-box;top: 0;bottom: 0;left: 50%;z-index: -1;}#sk-container-id-2 div.sk-parallel-item {display: flex;flex-direction: column;z-index: 1;position: relative;background-color: white;}#sk-container-id-2 div.sk-parallel-item:first-child::after {align-self: flex-end;width: 50%;}#sk-container-id-2 div.sk-parallel-item:last-child::after {align-self: flex-start;width: 50%;}#sk-container-id-2 div.sk-parallel-item:only-child::after {width: 0;}#sk-container-id-2 div.sk-dashed-wrapped {border: 1px dashed gray;margin: 0 0.4em 0.5em 0.4em;box-sizing: border-box;padding-bottom: 0.4em;background-color: white;}#sk-container-id-2 div.sk-label label {font-family: monospace;font-weight: bold;display: inline-block;line-height: 1.2em;}#sk-container-id-2 div.sk-label-container {text-align: center;}#sk-container-id-2 div.sk-container {/* jupyter's `normalize.less` sets `[hidden] { display: none; }` but bootstrap.min.css set `[hidden] { display: none !important; }` so we also need the `!important` here to be able to override the default hidden behavior on the sphinx rendered scikit-learn.org. See: https://github.com/scikit-learn/scikit-learn/issues/21755 */display: inline-block !important;position: relative;}#sk-container-id-2 div.sk-text-repr-fallback {display: none;}</style><div id=\"sk-container-id-2\" class=\"sk-top-container\"><div class=\"sk-text-repr-fallback\"><pre>Pipeline(steps=[(&#x27;scaler&#x27;, StandardScaler()), (&#x27;logreg&#x27;, LogisticRegression())])</pre><b>In a Jupyter environment, please rerun this cell to show the HTML representation or trust the notebook. <br />On GitHub, the HTML representation is unable to render, please try loading this page with nbviewer.org.</b></div><div class=\"sk-container\" hidden><div class=\"sk-item sk-dashed-wrapped\"><div class=\"sk-label-container\"><div class=\"sk-label sk-toggleable\"><input class=\"sk-toggleable__control sk-hidden--visually\" id=\"sk-estimator-id-4\" type=\"checkbox\" ><label for=\"sk-estimator-id-4\" class=\"sk-toggleable__label sk-toggleable__label-arrow\">Pipeline</label><div class=\"sk-toggleable__content\"><pre>Pipeline(steps=[(&#x27;scaler&#x27;, StandardScaler()), (&#x27;logreg&#x27;, LogisticRegression())])</pre></div></div></div><div class=\"sk-serial\"><div class=\"sk-item\"><div class=\"sk-estimator sk-toggleable\"><input class=\"sk-toggleable__control sk-hidden--visually\" id=\"sk-estimator-id-5\" type=\"checkbox\" ><label for=\"sk-estimator-id-5\" class=\"sk-toggleable__label sk-toggleable__label-arrow\">StandardScaler</label><div class=\"sk-toggleable__content\"><pre>StandardScaler()</pre></div></div></div><div class=\"sk-item\"><div class=\"sk-estimator sk-toggleable\"><input class=\"sk-toggleable__control sk-hidden--visually\" id=\"sk-estimator-id-6\" type=\"checkbox\" ><label for=\"sk-estimator-id-6\" class=\"sk-toggleable__label sk-toggleable__label-arrow\">LogisticRegression</label><div class=\"sk-toggleable__content\"><pre>LogisticRegression()</pre></div></div></div></div></div></div></div>"
            ],
            "text/plain": [
              "Pipeline(steps=[('scaler', StandardScaler()), ('logreg', LogisticRegression())])"
            ]
          },
          "execution_count": 37,
          "metadata": {},
          "output_type": "execute_result"
        }
      ],
      "source": [
        "from sklearn.linear_model import LogisticRegression\n",
        "\n",
        "# Creating a model for scaling and training Logistic Regression\n",
        "Model_LogReg = Pipeline([\n",
        "    ('scaler', StandardScaler()),  # Standardizing features with Standard Scaler\n",
        "    ('logreg', LogisticRegression())  # Logistic Regression Model\n",
        "])\n",
        "\n",
        "# Training the model\n",
        "Model_LogReg.fit(X_train, y_train)"
      ]
    },
    {
      "cell_type": "code",
      "execution_count": 38,
      "metadata": {
        "colab": {
          "base_uri": "https://localhost:8080/"
        },
        "id": "5CmPk58QkHQy",
        "outputId": "42e06c70-73c9-4f4a-d094-e4e7e513d466"
      },
      "outputs": [
        {
          "name": "stdout",
          "output_type": "stream",
          "text": [
            "Classification Report Logistic Regression:\n",
            "              precision    recall  f1-score   support\n",
            "\n",
            "           0       0.92      0.98      0.95      1461\n",
            "           1       0.72      0.35      0.47       187\n",
            "\n",
            "    accuracy                           0.91      1648\n",
            "   macro avg       0.82      0.67      0.71      1648\n",
            "weighted avg       0.90      0.91      0.90      1648\n",
            "\n",
            "\n",
            "Confusion Matrix Logistic Regression:\n",
            "[[1435   26]\n",
            " [ 121   66]]\n"
          ]
        }
      ],
      "source": [
        "# Prediction with test data using Logistic Regression model\n",
        "y_pred_logreg = Model_LogReg.predict(X_test)\n",
        "\n",
        "# Logistic Regression Model Evaluation\n",
        "print(\"Classification Report Logistic Regression:\")\n",
        "print(classification_report(y_test, y_pred_logreg))\n",
        "\n",
        "print(\"\\nConfusion Matrix Logistic Regression:\")\n",
        "print(confusion_matrix(y_test, y_pred_logreg))"
      ]
    },
    {
      "cell_type": "markdown",
      "metadata": {},
      "source": [
        "The Logistic Regression model performs very well in classifying class 0 (with 92% precision and 98% recall). However, the performance for class 1 is less satisfactory (72% precision and 35% recall), as indicated by the low f1-score for class 1 (0.47).\n",
        "\n",
        "This suggests that the model is better at identifying class 0 than class 1, as seen in the confusion matrix where more class 1 instances are misclassified as class 0. Overall, the model accuracy is 91%, but the imbalance in performance between class 0 and class 1 needs attention."
      ]
    },
    {
      "cell_type": "markdown",
      "metadata": {},
      "source": [
        "### Comparison of SVM and Logistic Regression"
      ]
    },
    {
      "cell_type": "markdown",
      "metadata": {},
      "source": [
        "This indicates that Logistic Regression is more effective in identifying potential customers who are likely to subscribe compared to SVM. While SVM has a high recall for class 0 (non-subscribers) at 99%, Logistic Regression also achieves a similarly high recall of 98% for the same class. Overall, Logistic Regression demonstrates better consistency across all evaluation metrics, including both macro and weighted averages, by minimizing false negatives and improving true positives in its confusion matrix."
      ]
    },
    {
      "cell_type": "markdown",
      "metadata": {},
      "source": [
        "### Save the best model, scaler, and trained encoder"
      ]
    },
    {
      "cell_type": "code",
      "execution_count": 39,
      "metadata": {
        "id": "ZwrzLKA9mpF5"
      },
      "outputs": [],
      "source": [
        "import pickle\n",
        "\n",
        "# Save the Logistic Regression model\n",
        "with open('best_model.pkl', 'wb') as file:\n",
        "    pickle.dump(Model_LogReg, file)\n",
        "\n",
        "# Save the scaler for Logistic Regression\n",
        "with open('logreg_scaler.pkl', 'wb') as file:\n",
        "    pickle.dump(Model_LogReg['scaler'], file)\n",
        "\n",
        "# Save One Hot Encoder\n",
        "with open('onehot_encoder.pkl', 'wb') as file:\n",
        "    pickle.dump(one_hot_encoder, file)\n",
        "\n",
        "# Save Ordinal Encoder\n",
        "with open('ordinal_encoder.pkl', 'wb') as file:\n",
        "    pickle.dump(ordinal_encoder, file)\n",
        "\n",
        "# Save Label Encoder\n",
        "with open('label_encoder.pkl', 'wb') as file:\n",
        "    pickle.dump(label_encoding, file)\n"
      ]
    },
    {
      "cell_type": "markdown",
      "metadata": {},
      "source": [
        "### Creating prediction code that will be used for the deployment process"
      ]
    },
    {
      "cell_type": "markdown",
      "metadata": {},
      "source": [
        "Code Prediction"
      ]
    },
    {
      "cell_type": "code",
      "execution_count": 40,
      "metadata": {
        "colab": {
          "base_uri": "https://localhost:8080/",
          "height": 404
        },
        "id": "HbzUGE0mnTSA",
        "outputId": "bf7b60f9-8129-4a69-d240-554bd0c963c8"
      },
      "outputs": [
        {
          "name": "stderr",
          "output_type": "stream",
          "text": [
            "INFO:__main__:Model and encoders loaded successfully\n"
          ]
        }
      ],
      "source": [
        "from fastapi import FastAPI, HTTPException\n",
        "from pydantic import BaseModel\n",
        "import joblib\n",
        "import pandas as pd\n",
        "import logging\n",
        "import numpy as np\n",
        "\n",
        "# Set up logging\n",
        "logging.basicConfig(level=logging.INFO)\n",
        "logger = logging.getLogger(__name__)\n",
        "\n",
        "app = FastAPI()\n",
        "\n",
        "# Load the logistic regression model, scaler, encoder\n",
        "try:\n",
        "    with open('best_model.pkl', 'rb') as model_file:\n",
        "        model_logreg = joblib.load(model_file)\n",
        "    scaler_logreg = joblib.load('logreg_scaler.pkl')\n",
        "    onehot_encoder = joblib.load('onehot_encoder.pkl')\n",
        "    ordinal_encoder = joblib.load('ordinal_encoder.pkl')\n",
        "    label_encoder = joblib.load('label_encoder.pkl')\n",
        "    logger.info(\"Model and encoders loaded successfully\")\n",
        "except Exception as e:\n",
        "    logger.error(f\"Error loading models and encoders: {e}\")\n",
        "    raise HTTPException(status_code=500, detail=\"Error loading models and encoders\")\n",
        "\n",
        "class DataInput(BaseModel):\n",
        "    age: int\n",
        "    job: str  \n",
        "    marital: str  \n",
        "    education: str  \n",
        "    default: str  \n",
        "    housing: str  \n",
        "    loan: str  \n",
        "    contact: str  \n",
        "    month: str  \n",
        "    day_of_week: str  \n",
        "    duration: float\n",
        "    campaign: int\n",
        "    pdays: int\n",
        "    previous: int\n",
        "    poutcome: str  \n",
        "\n",
        "def preprocess_data(data: dict):\n",
        "    data_df = pd.DataFrame([data])\n",
        "\n",
        "    nominal_columns = ['job', 'marital', 'education', 'default', 'housing', 'loan', 'contact', 'poutcome']\n",
        "    ordinal_columns = ['month', 'day_of_week']\n",
        "    numerical_columns = ['age', 'duration', 'campaign', 'pdays', 'previous']\n",
        "\n",
        "    # Handle unknown categories for nominal columns\n",
        "    for col in nominal_columns:\n",
        "        known_categories = set(onehot_encoder.categories_[nominal_columns.index(col)])\n",
        "        data_df[col] = data_df[col].apply(lambda x: x if x in known_categories else 'unknown')\n",
        "\n",
        "    # Handle unknown categories for ordinal columns\n",
        "    for col in ordinal_columns:\n",
        "        known_categories = set(ordinal_encoder.categories_[ordinal_columns.index(col)])\n",
        "        data_df[col] = data_df[col].apply(lambda x: x if x in known_categories else 'unknown')\n",
        "\n",
        "    # One-Hot Encoding for nominal columns\n",
        "    one_hot_encoded_data = onehot_encoder.transform(data_df[nominal_columns])\n",
        "    one_hot_encoded_df = pd.DataFrame(one_hot_encoded_data, columns=onehot_encoder.get_feature_names_out(nominal_columns), index=data_df.index)\n",
        "\n",
        "    # Ordinal Encoding for ordinal columns\n",
        "    ordinal_encoded_data = ordinal_encoder.transform(data_df[ordinal_columns])\n",
        "    ordinal_encoded_df = pd.DataFrame(ordinal_encoded_data, columns=ordinal_columns, index=data_df.index)\n",
        "\n",
        "    # Concatenate all data frames\n",
        "    processed_data = pd.concat([data_df[numerical_columns], one_hot_encoded_df, ordinal_encoded_df], axis=1)\n",
        "\n",
        "    return processed_data\n",
        "\n",
        "@app.post(\"/predict/\")\n",
        "def predict(data: DataInput):\n",
        "    try:\n",
        "        data_dict = data.dict()\n",
        "        preprocessed_data = preprocess_data(data_dict)\n",
        "        scaled_data = scaler_logreg.transform(preprocessed_data)\n",
        "        prediction = model_logreg.predict(scaled_data)\n",
        "\n",
        "        # Assuming prediction is a single value array\n",
        "        predicted_value = label_encoder.inverse_transform(prediction)[0]\n",
        "\n",
        "        return {\"prediction\": str(predicted_value)}  # Ensure JSON serializability\n",
        "    except Exception as e:\n",
        "        logger.error(f\"Error during prediction: {e}\")\n",
        "        raise HTTPException(status_code=500, detail=f\"Error during prediction: {e}\")\n",
        "\n",
        "@app.get(\"/\")\n",
        "def read_root():\n",
        "    return {\"message\": \"Hello World\"}\n"
      ]
    }
  ],
  "metadata": {
    "colab": {
      "provenance": []
    },
    "kernelspec": {
      "display_name": "Python 3",
      "name": "python3"
    },
    "language_info": {
      "codemirror_mode": {
        "name": "ipython",
        "version": 3
      },
      "file_extension": ".py",
      "mimetype": "text/x-python",
      "name": "python",
      "nbconvert_exporter": "python",
      "pygments_lexer": "ipython3",
      "version": "3.11.5"
    }
  },
  "nbformat": 4,
  "nbformat_minor": 0
}
